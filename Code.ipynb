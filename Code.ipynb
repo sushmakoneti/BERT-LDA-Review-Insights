{
 "cells": [
  {
   "cell_type": "markdown",
   "id": "33fe78b0",
   "metadata": {
    "papermill": {
     "duration": 0.012241,
     "end_time": "2024-08-19T10:22:55.037459",
     "exception": false,
     "start_time": "2024-08-19T10:22:55.025218",
     "status": "completed"
    },
    "tags": []
   },
   "source": [
    "# BERT-LDA Review Insights\n",
    "\n",
    "**This project aims to analyze user reviews of ChatGPT using advanced natural language processing techniques. We employ BERT for sentiment analysis to understand user sentiments accurately and use LDA for topic modeling to uncover prevalent themes in the feedback.**"
   ]
  },
  {
   "cell_type": "markdown",
   "id": "ed40e469",
   "metadata": {
    "papermill": {
     "duration": 0.011715,
     "end_time": "2024-08-19T10:22:55.061018",
     "exception": false,
     "start_time": "2024-08-19T10:22:55.049303",
     "status": "completed"
    },
    "tags": []
   },
   "source": [
    "To dive into the ChatGPT reviews, we turned to BERT for sentiment analysis because it’s exceptionally good at understanding the nuances in language. Unlike simpler methods that might miss the subtleties of how people express their feelings, BERT can grasp the context and meaning behind user comments more accurately. This means we get a clearer picture of whether users are genuinely happy, neutral, or unhappy with their experience. By using BERT, we can better categorize the sentiments in the reviews, which helps us pinpoint areas where we’re doing well and where we need to improve.\n",
    "\n",
    "After analyzing sentiments with BERT, we used Latent Dirichlet Allocation (LDA) to dig deeper into what users are talking about. LDA helps us uncover the main topics or themes in the reviews, giving us a clearer view of what people are focusing on, whether it’s specific features or common issues. By combining the sentiment scores with the insights from LDA, we can better understand not just how people feel, but also what’s driving those feelings. This approach lets us make more informed decisions and improvements, ensuring we address the right areas to enhance user satisfaction."
   ]
  },
  {
   "cell_type": "code",
   "execution_count": 1,
   "id": "cc9faae3",
   "metadata": {
    "execution": {
     "iopub.execute_input": "2024-08-19T10:22:55.085782Z",
     "iopub.status.busy": "2024-08-19T10:22:55.085376Z",
     "iopub.status.idle": "2024-08-19T10:22:57.547054Z",
     "shell.execute_reply": "2024-08-19T10:22:57.546052Z"
    },
    "papermill": {
     "duration": 2.476661,
     "end_time": "2024-08-19T10:22:57.549409",
     "exception": false,
     "start_time": "2024-08-19T10:22:55.072748",
     "status": "completed"
    },
    "tags": []
   },
   "outputs": [],
   "source": [
    "import numpy as np \n",
    "import pandas as pd\n",
    "import os\n",
    "import re\n",
    "from wordcloud import WordCloud\n",
    "import matplotlib.pyplot as plt\n",
    "import seaborn as sns\n",
    "import nltk\n",
    "from nltk.tokenize import regexp_tokenize\n",
    "from nltk.corpus import stopwords, wordnet\n",
    "from nltk.tokenize import word_tokenize\n",
    "from nltk.stem import WordNetLemmatizer"
   ]
  },
  {
   "cell_type": "code",
   "execution_count": 2,
   "id": "7ca81e8c",
   "metadata": {
    "_cell_guid": "b1076dfc-b9ad-4769-8c92-a6c4dae69d19",
    "_uuid": "8f2839f25d086af736a60e9eeb907d3b93b6e0e5",
    "execution": {
     "iopub.execute_input": "2024-08-19T10:22:57.575728Z",
     "iopub.status.busy": "2024-08-19T10:22:57.575298Z",
     "iopub.status.idle": "2024-08-19T10:22:57.585140Z",
     "shell.execute_reply": "2024-08-19T10:22:57.584202Z"
    },
    "papermill": {
     "duration": 0.024539,
     "end_time": "2024-08-19T10:22:57.586977",
     "exception": false,
     "start_time": "2024-08-19T10:22:57.562438",
     "status": "completed"
    },
    "tags": []
   },
   "outputs": [
    {
     "name": "stdout",
     "output_type": "stream",
     "text": [
      "/kaggle/input/chatgpt-reviews-daily-updated/chatgpt_reviews.csv\n"
     ]
    }
   ],
   "source": [
    "for dirname, _, filenames in os.walk('/kaggle/input'):\n",
    "    for filename in filenames:\n",
    "        print(os.path.join(dirname, filename))"
   ]
  },
  {
   "cell_type": "code",
   "execution_count": 3,
   "id": "e35747c6",
   "metadata": {
    "execution": {
     "iopub.execute_input": "2024-08-19T10:22:57.611834Z",
     "iopub.status.busy": "2024-08-19T10:22:57.611544Z",
     "iopub.status.idle": "2024-08-19T10:22:58.833885Z",
     "shell.execute_reply": "2024-08-19T10:22:58.832884Z"
    },
    "papermill": {
     "duration": 1.237373,
     "end_time": "2024-08-19T10:22:58.836396",
     "exception": false,
     "start_time": "2024-08-19T10:22:57.599023",
     "status": "completed"
    },
    "tags": []
   },
   "outputs": [],
   "source": [
    "data = pd.read_csv('/kaggle/input/chatgpt-reviews-daily-updated/chatgpt_reviews.csv')"
   ]
  },
  {
   "cell_type": "code",
   "execution_count": 4,
   "id": "501b2c11",
   "metadata": {
    "execution": {
     "iopub.execute_input": "2024-08-19T10:22:58.862045Z",
     "iopub.status.busy": "2024-08-19T10:22:58.861403Z",
     "iopub.status.idle": "2024-08-19T10:22:58.882599Z",
     "shell.execute_reply": "2024-08-19T10:22:58.881698Z"
    },
    "papermill": {
     "duration": 0.036021,
     "end_time": "2024-08-19T10:22:58.884674",
     "exception": false,
     "start_time": "2024-08-19T10:22:58.848653",
     "status": "completed"
    },
    "tags": []
   },
   "outputs": [
    {
     "data": {
      "text/html": [
       "<div>\n",
       "<style scoped>\n",
       "    .dataframe tbody tr th:only-of-type {\n",
       "        vertical-align: middle;\n",
       "    }\n",
       "\n",
       "    .dataframe tbody tr th {\n",
       "        vertical-align: top;\n",
       "    }\n",
       "\n",
       "    .dataframe thead th {\n",
       "        text-align: right;\n",
       "    }\n",
       "</style>\n",
       "<table border=\"1\" class=\"dataframe\">\n",
       "  <thead>\n",
       "    <tr style=\"text-align: right;\">\n",
       "      <th></th>\n",
       "      <th>reviewId</th>\n",
       "      <th>userName</th>\n",
       "      <th>content</th>\n",
       "      <th>score</th>\n",
       "      <th>thumbsUpCount</th>\n",
       "      <th>reviewCreatedVersion</th>\n",
       "      <th>at</th>\n",
       "      <th>appVersion</th>\n",
       "    </tr>\n",
       "  </thead>\n",
       "  <tbody>\n",
       "    <tr>\n",
       "      <th>0</th>\n",
       "      <td>b31ad0fb-4e09-422c-bee6-95b1687297fc</td>\n",
       "      <td>Sana Irshad</td>\n",
       "      <td>It's one of the best apps I love it and the be...</td>\n",
       "      <td>5</td>\n",
       "      <td>0</td>\n",
       "      <td>1.2024.219</td>\n",
       "      <td>2024-08-17 19:25:22</td>\n",
       "      <td>1.2024.219</td>\n",
       "    </tr>\n",
       "    <tr>\n",
       "      <th>1</th>\n",
       "      <td>e839f9c8-90fa-44f5-ba78-d02ad7fa46f2</td>\n",
       "      <td>Biswajit Shil</td>\n",
       "      <td>good</td>\n",
       "      <td>5</td>\n",
       "      <td>0</td>\n",
       "      <td>1.2024.206</td>\n",
       "      <td>2024-08-17 19:19:56</td>\n",
       "      <td>1.2024.206</td>\n",
       "    </tr>\n",
       "    <tr>\n",
       "      <th>2</th>\n",
       "      <td>79637a22-a090-49d7-899d-3d1ebb05b698</td>\n",
       "      <td>Narsinh Gamit</td>\n",
       "      <td>best for learning</td>\n",
       "      <td>5</td>\n",
       "      <td>0</td>\n",
       "      <td>1.2024.198</td>\n",
       "      <td>2024-08-17 19:15:28</td>\n",
       "      <td>1.2024.198</td>\n",
       "    </tr>\n",
       "    <tr>\n",
       "      <th>3</th>\n",
       "      <td>60d7ff5c-be6b-46ae-83ab-bd34d552fad7</td>\n",
       "      <td>Jacquerine Songolo</td>\n",
       "      <td>fast and excellent</td>\n",
       "      <td>5</td>\n",
       "      <td>0</td>\n",
       "      <td>1.2024.219</td>\n",
       "      <td>2024-08-17 19:15:22</td>\n",
       "      <td>1.2024.219</td>\n",
       "    </tr>\n",
       "    <tr>\n",
       "      <th>4</th>\n",
       "      <td>ab324f83-c36d-4d52-8464-dc9ff51244b5</td>\n",
       "      <td>Kabiru Musa Yusuf</td>\n",
       "      <td>it's such a great development. I use chatgpt f...</td>\n",
       "      <td>5</td>\n",
       "      <td>0</td>\n",
       "      <td>1.2024.212</td>\n",
       "      <td>2024-08-17 19:14:23</td>\n",
       "      <td>1.2024.212</td>\n",
       "    </tr>\n",
       "  </tbody>\n",
       "</table>\n",
       "</div>"
      ],
      "text/plain": [
       "                               reviewId            userName  \\\n",
       "0  b31ad0fb-4e09-422c-bee6-95b1687297fc         Sana Irshad   \n",
       "1  e839f9c8-90fa-44f5-ba78-d02ad7fa46f2       Biswajit Shil   \n",
       "2  79637a22-a090-49d7-899d-3d1ebb05b698       Narsinh Gamit   \n",
       "3  60d7ff5c-be6b-46ae-83ab-bd34d552fad7  Jacquerine Songolo   \n",
       "4  ab324f83-c36d-4d52-8464-dc9ff51244b5   Kabiru Musa Yusuf   \n",
       "\n",
       "                                             content  score  thumbsUpCount  \\\n",
       "0  It's one of the best apps I love it and the be...      5              0   \n",
       "1                                               good      5              0   \n",
       "2                                  best for learning      5              0   \n",
       "3                                 fast and excellent      5              0   \n",
       "4  it's such a great development. I use chatgpt f...      5              0   \n",
       "\n",
       "  reviewCreatedVersion                   at  appVersion  \n",
       "0           1.2024.219  2024-08-17 19:25:22  1.2024.219  \n",
       "1           1.2024.206  2024-08-17 19:19:56  1.2024.206  \n",
       "2           1.2024.198  2024-08-17 19:15:28  1.2024.198  \n",
       "3           1.2024.219  2024-08-17 19:15:22  1.2024.219  \n",
       "4           1.2024.212  2024-08-17 19:14:23  1.2024.212  "
      ]
     },
     "execution_count": 4,
     "metadata": {},
     "output_type": "execute_result"
    }
   ],
   "source": [
    "data.head()"
   ]
  },
  {
   "cell_type": "code",
   "execution_count": 5,
   "id": "591dadd9",
   "metadata": {
    "execution": {
     "iopub.execute_input": "2024-08-19T10:22:58.911141Z",
     "iopub.status.busy": "2024-08-19T10:22:58.910851Z",
     "iopub.status.idle": "2024-08-19T10:22:58.917347Z",
     "shell.execute_reply": "2024-08-19T10:22:58.916518Z"
    },
    "papermill": {
     "duration": 0.021334,
     "end_time": "2024-08-19T10:22:58.919315",
     "exception": false,
     "start_time": "2024-08-19T10:22:58.897981",
     "status": "completed"
    },
    "tags": []
   },
   "outputs": [
    {
     "data": {
      "text/plain": [
       "reviewId                object\n",
       "userName                object\n",
       "content                 object\n",
       "score                    int64\n",
       "thumbsUpCount            int64\n",
       "reviewCreatedVersion    object\n",
       "at                      object\n",
       "appVersion              object\n",
       "dtype: object"
      ]
     },
     "execution_count": 5,
     "metadata": {},
     "output_type": "execute_result"
    }
   ],
   "source": [
    "data.dtypes"
   ]
  },
  {
   "cell_type": "code",
   "execution_count": 6,
   "id": "9d6fe9d8",
   "metadata": {
    "execution": {
     "iopub.execute_input": "2024-08-19T10:22:58.945009Z",
     "iopub.status.busy": "2024-08-19T10:22:58.944527Z",
     "iopub.status.idle": "2024-08-19T10:22:59.056592Z",
     "shell.execute_reply": "2024-08-19T10:22:59.055738Z"
    },
    "papermill": {
     "duration": 0.126958,
     "end_time": "2024-08-19T10:22:59.058542",
     "exception": false,
     "start_time": "2024-08-19T10:22:58.931584",
     "status": "completed"
    },
    "tags": []
   },
   "outputs": [
    {
     "data": {
      "text/plain": [
       "reviewId                    0\n",
       "userName                    1\n",
       "content                     6\n",
       "score                       0\n",
       "thumbsUpCount               0\n",
       "reviewCreatedVersion    14502\n",
       "at                          0\n",
       "appVersion              14502\n",
       "dtype: int64"
      ]
     },
     "execution_count": 6,
     "metadata": {},
     "output_type": "execute_result"
    }
   ],
   "source": [
    "data.isnull().sum()"
   ]
  },
  {
   "cell_type": "code",
   "execution_count": 7,
   "id": "98652b43",
   "metadata": {
    "execution": {
     "iopub.execute_input": "2024-08-19T10:22:59.084499Z",
     "iopub.status.busy": "2024-08-19T10:22:59.084216Z",
     "iopub.status.idle": "2024-08-19T10:22:59.170020Z",
     "shell.execute_reply": "2024-08-19T10:22:59.169118Z"
    },
    "papermill": {
     "duration": 0.101239,
     "end_time": "2024-08-19T10:22:59.172332",
     "exception": false,
     "start_time": "2024-08-19T10:22:59.071093",
     "status": "completed"
    },
    "tags": []
   },
   "outputs": [
    {
     "name": "stderr",
     "output_type": "stream",
     "text": [
      "/tmp/ipykernel_24/3436829203.py:1: FutureWarning: A value is trying to be set on a copy of a DataFrame or Series through chained assignment using an inplace method.\n",
      "The behavior will change in pandas 3.0. This inplace method will never work because the intermediate object on which we are setting values always behaves as a copy.\n",
      "\n",
      "For example, when doing 'df[col].method(value, inplace=True)', try using 'df.method({col: value}, inplace=True)' or df[col] = df[col].method(value) instead, to perform the operation inplace on the original object.\n",
      "\n",
      "\n",
      "  data['reviewCreatedVersion'].fillna('Unknown', inplace=True)\n",
      "/tmp/ipykernel_24/3436829203.py:2: FutureWarning: A value is trying to be set on a copy of a DataFrame or Series through chained assignment using an inplace method.\n",
      "The behavior will change in pandas 3.0. This inplace method will never work because the intermediate object on which we are setting values always behaves as a copy.\n",
      "\n",
      "For example, when doing 'df[col].method(value, inplace=True)', try using 'df.method({col: value}, inplace=True)' or df[col] = df[col].method(value) instead, to perform the operation inplace on the original object.\n",
      "\n",
      "\n",
      "  data['appVersion'].fillna('Unknown', inplace=True)\n",
      "/tmp/ipykernel_24/3436829203.py:3: FutureWarning: A value is trying to be set on a copy of a DataFrame or Series through chained assignment using an inplace method.\n",
      "The behavior will change in pandas 3.0. This inplace method will never work because the intermediate object on which we are setting values always behaves as a copy.\n",
      "\n",
      "For example, when doing 'df[col].method(value, inplace=True)', try using 'df.method({col: value}, inplace=True)' or df[col] = df[col].method(value) instead, to perform the operation inplace on the original object.\n",
      "\n",
      "\n",
      "  data['userName'].fillna('Unknown', inplace=True)\n",
      "/tmp/ipykernel_24/3436829203.py:4: FutureWarning: A value is trying to be set on a copy of a DataFrame or Series through chained assignment using an inplace method.\n",
      "The behavior will change in pandas 3.0. This inplace method will never work because the intermediate object on which we are setting values always behaves as a copy.\n",
      "\n",
      "For example, when doing 'df[col].method(value, inplace=True)', try using 'df.method({col: value}, inplace=True)' or df[col] = df[col].method(value) instead, to perform the operation inplace on the original object.\n",
      "\n",
      "\n",
      "  data['content'].fillna('No review provided', inplace=True)\n"
     ]
    }
   ],
   "source": [
    "data['reviewCreatedVersion'].fillna('Unknown', inplace=True)\n",
    "data['appVersion'].fillna('Unknown', inplace=True)\n",
    "data['userName'].fillna('Unknown', inplace=True)\n",
    "data['content'].fillna('No review provided', inplace=True)"
   ]
  },
  {
   "cell_type": "code",
   "execution_count": 8,
   "id": "992ef4db",
   "metadata": {
    "execution": {
     "iopub.execute_input": "2024-08-19T10:22:59.199889Z",
     "iopub.status.busy": "2024-08-19T10:22:59.199182Z",
     "iopub.status.idle": "2024-08-19T10:22:59.310378Z",
     "shell.execute_reply": "2024-08-19T10:22:59.309508Z"
    },
    "papermill": {
     "duration": 0.127129,
     "end_time": "2024-08-19T10:22:59.312437",
     "exception": false,
     "start_time": "2024-08-19T10:22:59.185308",
     "status": "completed"
    },
    "tags": []
   },
   "outputs": [
    {
     "data": {
      "text/plain": [
       "reviewId                0\n",
       "userName                0\n",
       "content                 0\n",
       "score                   0\n",
       "thumbsUpCount           0\n",
       "reviewCreatedVersion    0\n",
       "at                      0\n",
       "appVersion              0\n",
       "dtype: int64"
      ]
     },
     "execution_count": 8,
     "metadata": {},
     "output_type": "execute_result"
    }
   ],
   "source": [
    "data.isnull().sum()"
   ]
  },
  {
   "cell_type": "code",
   "execution_count": 9,
   "id": "85596e64",
   "metadata": {
    "execution": {
     "iopub.execute_input": "2024-08-19T10:22:59.339611Z",
     "iopub.status.busy": "2024-08-19T10:22:59.339345Z",
     "iopub.status.idle": "2024-08-19T10:22:59.349538Z",
     "shell.execute_reply": "2024-08-19T10:22:59.348852Z"
    },
    "papermill": {
     "duration": 0.025728,
     "end_time": "2024-08-19T10:22:59.351443",
     "exception": false,
     "start_time": "2024-08-19T10:22:59.325715",
     "status": "completed"
    },
    "tags": []
   },
   "outputs": [],
   "source": [
    "df = data[['content']]"
   ]
  },
  {
   "cell_type": "code",
   "execution_count": 10,
   "id": "6b2fa11f",
   "metadata": {
    "execution": {
     "iopub.execute_input": "2024-08-19T10:22:59.378088Z",
     "iopub.status.busy": "2024-08-19T10:22:59.377828Z",
     "iopub.status.idle": "2024-08-19T10:22:59.548232Z",
     "shell.execute_reply": "2024-08-19T10:22:59.547282Z"
    },
    "papermill": {
     "duration": 0.185862,
     "end_time": "2024-08-19T10:22:59.550270",
     "exception": false,
     "start_time": "2024-08-19T10:22:59.364408",
     "status": "completed"
    },
    "tags": []
   },
   "outputs": [
    {
     "name": "stdout",
     "output_type": "stream",
     "text": [
      "[nltk_data] Downloading package wordnet to /usr/share/nltk_data...\n",
      "[nltk_data]   Package wordnet is already up-to-date!\n",
      "[nltk_data] Downloading package stopwords to /usr/share/nltk_data...\n",
      "[nltk_data]   Package stopwords is already up-to-date!\n",
      "[nltk_data] Downloading package punkt to /usr/share/nltk_data...\n",
      "[nltk_data]   Package punkt is already up-to-date!\n"
     ]
    },
    {
     "data": {
      "text/plain": [
       "True"
      ]
     },
     "execution_count": 10,
     "metadata": {},
     "output_type": "execute_result"
    }
   ],
   "source": [
    "nltk.download('wordnet')\n",
    "nltk.download('stopwords')\n",
    "nltk.download('punkt')"
   ]
  },
  {
   "cell_type": "code",
   "execution_count": 11,
   "id": "38fe6759",
   "metadata": {
    "execution": {
     "iopub.execute_input": "2024-08-19T10:22:59.577069Z",
     "iopub.status.busy": "2024-08-19T10:22:59.576784Z",
     "iopub.status.idle": "2024-08-19T10:22:59.583524Z",
     "shell.execute_reply": "2024-08-19T10:22:59.582648Z"
    },
    "papermill": {
     "duration": 0.022338,
     "end_time": "2024-08-19T10:22:59.585447",
     "exception": false,
     "start_time": "2024-08-19T10:22:59.563109",
     "status": "completed"
    },
    "tags": []
   },
   "outputs": [],
   "source": [
    "stop_words = set(stopwords.words('english'))"
   ]
  },
  {
   "cell_type": "code",
   "execution_count": 12,
   "id": "b8dcf388",
   "metadata": {
    "execution": {
     "iopub.execute_input": "2024-08-19T10:22:59.612617Z",
     "iopub.status.busy": "2024-08-19T10:22:59.612107Z",
     "iopub.status.idle": "2024-08-19T10:22:59.617492Z",
     "shell.execute_reply": "2024-08-19T10:22:59.616684Z"
    },
    "papermill": {
     "duration": 0.020971,
     "end_time": "2024-08-19T10:22:59.619344",
     "exception": false,
     "start_time": "2024-08-19T10:22:59.598373",
     "status": "completed"
    },
    "tags": []
   },
   "outputs": [],
   "source": [
    "def preprocess_text(text):\n",
    "    text = text.lower() # Convert to lowercase\n",
    "    text = re.sub(r'\\s+', ' ', text).strip() # Remove extra spaces and newlines\n",
    "    text = re.sub(r'[^\\w\\s]', '', text)  # Remove punctuation\n",
    "    tokens = word_tokenize(text) # Tokenization\n",
    "    tokens = [word for word in tokens if word not in stop_words] # Remove stop words\n",
    "    return ' '.join(tokens) # Join tokens back into a single string"
   ]
  },
  {
   "cell_type": "code",
   "execution_count": 13,
   "id": "7665d471",
   "metadata": {
    "execution": {
     "iopub.execute_input": "2024-08-19T10:22:59.645918Z",
     "iopub.status.busy": "2024-08-19T10:22:59.645646Z",
     "iopub.status.idle": "2024-08-19T10:23:27.913879Z",
     "shell.execute_reply": "2024-08-19T10:23:27.912890Z"
    },
    "papermill": {
     "duration": 28.2839,
     "end_time": "2024-08-19T10:23:27.916029",
     "exception": false,
     "start_time": "2024-08-19T10:22:59.632129",
     "status": "completed"
    },
    "tags": []
   },
   "outputs": [
    {
     "name": "stderr",
     "output_type": "stream",
     "text": [
      "/tmp/ipykernel_24/220339540.py:1: SettingWithCopyWarning: \n",
      "A value is trying to be set on a copy of a slice from a DataFrame.\n",
      "Try using .loc[row_indexer,col_indexer] = value instead\n",
      "\n",
      "See the caveats in the documentation: https://pandas.pydata.org/pandas-docs/stable/user_guide/indexing.html#returning-a-view-versus-a-copy\n",
      "  df['content'] = df['content'].apply(preprocess_text)\n"
     ]
    }
   ],
   "source": [
    "df['content'] = df['content'].apply(preprocess_text)"
   ]
  },
  {
   "cell_type": "code",
   "execution_count": 14,
   "id": "fbab75c4",
   "metadata": {
    "execution": {
     "iopub.execute_input": "2024-08-19T10:23:27.943554Z",
     "iopub.status.busy": "2024-08-19T10:23:27.943262Z",
     "iopub.status.idle": "2024-08-19T10:23:27.947271Z",
     "shell.execute_reply": "2024-08-19T10:23:27.946411Z"
    },
    "papermill": {
     "duration": 0.019679,
     "end_time": "2024-08-19T10:23:27.949154",
     "exception": false,
     "start_time": "2024-08-19T10:23:27.929475",
     "status": "completed"
    },
    "tags": []
   },
   "outputs": [],
   "source": [
    "from wordcloud import WordCloud, STOPWORDS\n",
    "import matplotlib.pyplot as plt"
   ]
  },
  {
   "cell_type": "code",
   "execution_count": 15,
   "id": "a3641569",
   "metadata": {
    "execution": {
     "iopub.execute_input": "2024-08-19T10:23:27.976007Z",
     "iopub.status.busy": "2024-08-19T10:23:27.975541Z",
     "iopub.status.idle": "2024-08-19T10:23:27.979755Z",
     "shell.execute_reply": "2024-08-19T10:23:27.978917Z"
    },
    "papermill": {
     "duration": 0.019625,
     "end_time": "2024-08-19T10:23:27.981570",
     "exception": false,
     "start_time": "2024-08-19T10:23:27.961945",
     "status": "completed"
    },
    "tags": []
   },
   "outputs": [],
   "source": [
    "stopwords = set(STOPWORDS)\n",
    "stopwords.update(['chatgpt', 'app', 'apps', 'gpt', 'review', 'reviews', 'ChatGPT'])"
   ]
  },
  {
   "cell_type": "code",
   "execution_count": 16,
   "id": "087c9012",
   "metadata": {
    "execution": {
     "iopub.execute_input": "2024-08-19T10:23:28.008653Z",
     "iopub.status.busy": "2024-08-19T10:23:28.008012Z",
     "iopub.status.idle": "2024-08-19T10:23:28.131467Z",
     "shell.execute_reply": "2024-08-19T10:23:28.130385Z"
    },
    "papermill": {
     "duration": 0.139312,
     "end_time": "2024-08-19T10:23:28.133706",
     "exception": false,
     "start_time": "2024-08-19T10:23:27.994394",
     "status": "completed"
    },
    "tags": []
   },
   "outputs": [
    {
     "name": "stdout",
     "output_type": "stream",
     "text": [
      "count    190591.000000\n",
      "mean         31.617201\n",
      "std          50.634338\n",
      "min           0.000000\n",
      "25%           7.000000\n",
      "50%          13.000000\n",
      "75%          34.000000\n",
      "max         500.000000\n",
      "Name: content, dtype: float64\n"
     ]
    }
   ],
   "source": [
    "print(df['content'].apply(len).describe()) "
   ]
  },
  {
   "cell_type": "code",
   "execution_count": 17,
   "id": "207f7eb3",
   "metadata": {
    "execution": {
     "iopub.execute_input": "2024-08-19T10:23:28.161931Z",
     "iopub.status.busy": "2024-08-19T10:23:28.161604Z",
     "iopub.status.idle": "2024-08-19T10:23:28.166041Z",
     "shell.execute_reply": "2024-08-19T10:23:28.165176Z"
    },
    "papermill": {
     "duration": 0.020316,
     "end_time": "2024-08-19T10:23:28.168146",
     "exception": false,
     "start_time": "2024-08-19T10:23:28.147830",
     "status": "completed"
    },
    "tags": []
   },
   "outputs": [
    {
     "name": "stdout",
     "output_type": "stream",
     "text": [
      "Number of reviews: 190591\n"
     ]
    }
   ],
   "source": [
    "print(f\"Number of reviews: {df.shape[0]}\")"
   ]
  },
  {
   "cell_type": "code",
   "execution_count": 18,
   "id": "99969c65",
   "metadata": {
    "execution": {
     "iopub.execute_input": "2024-08-19T10:23:28.195607Z",
     "iopub.status.busy": "2024-08-19T10:23:28.195088Z",
     "iopub.status.idle": "2024-08-19T10:23:28.307569Z",
     "shell.execute_reply": "2024-08-19T10:23:28.306643Z"
    },
    "papermill": {
     "duration": 0.128746,
     "end_time": "2024-08-19T10:23:28.309758",
     "exception": false,
     "start_time": "2024-08-19T10:23:28.181012",
     "status": "completed"
    },
    "tags": []
   },
   "outputs": [
    {
     "name": "stdout",
     "output_type": "stream",
     "text": [
      "Average review length: 31.617201231957438\n"
     ]
    },
    {
     "name": "stderr",
     "output_type": "stream",
     "text": [
      "/tmp/ipykernel_24/494514692.py:1: SettingWithCopyWarning: \n",
      "A value is trying to be set on a copy of a slice from a DataFrame.\n",
      "Try using .loc[row_indexer,col_indexer] = value instead\n",
      "\n",
      "See the caveats in the documentation: https://pandas.pydata.org/pandas-docs/stable/user_guide/indexing.html#returning-a-view-versus-a-copy\n",
      "  df['review_length'] = df['content'].apply(len)\n"
     ]
    }
   ],
   "source": [
    "df['review_length'] = df['content'].apply(len)\n",
    "print(f\"Average review length: {df['review_length'].mean()}\")"
   ]
  },
  {
   "cell_type": "code",
   "execution_count": 19,
   "id": "87e0794a",
   "metadata": {
    "execution": {
     "iopub.execute_input": "2024-08-19T10:23:28.337627Z",
     "iopub.status.busy": "2024-08-19T10:23:28.337366Z",
     "iopub.status.idle": "2024-08-19T10:23:29.609457Z",
     "shell.execute_reply": "2024-08-19T10:23:29.608534Z"
    },
    "papermill": {
     "duration": 1.28828,
     "end_time": "2024-08-19T10:23:29.611415",
     "exception": false,
     "start_time": "2024-08-19T10:23:28.323135",
     "status": "completed"
    },
    "tags": []
   },
   "outputs": [
    {
     "name": "stderr",
     "output_type": "stream",
     "text": [
      "/opt/conda/lib/python3.10/site-packages/seaborn/_oldcore.py:1119: FutureWarning: use_inf_as_na option is deprecated and will be removed in a future version. Convert inf values to NaN before operating instead.\n",
      "  with pd.option_context('mode.use_inf_as_na', True):\n"
     ]
    },
    {
     "data": {
      "image/png": "[encoded data removed]",
      "text/plain": [
       "<Figure size 1000x600 with 1 Axes>"
      ]
     },
     "metadata": {},
     "output_type": "display_data"
    }
   ],
   "source": [
    "plt.figure(figsize=(10, 6))\n",
    "sns.histplot(df['review_length'], bins=30, kde=True)\n",
    "plt.title('Distribution of Review Lengths')\n",
    "plt.xlabel('Review Length')\n",
    "plt.ylabel('Frequency')\n",
    "plt.show()"
   ]
  },
  {
   "cell_type": "code",
   "execution_count": 20,
   "id": "44b6cb3c",
   "metadata": {
    "execution": {
     "iopub.execute_input": "2024-08-19T10:23:29.683992Z",
     "iopub.status.busy": "2024-08-19T10:23:29.683183Z",
     "iopub.status.idle": "2024-08-19T10:23:30.856288Z",
     "shell.execute_reply": "2024-08-19T10:23:30.855381Z"
    },
    "papermill": {
     "duration": 1.232779,
     "end_time": "2024-08-19T10:23:30.858467",
     "exception": false,
     "start_time": "2024-08-19T10:23:29.625688",
     "status": "completed"
    },
    "tags": []
   },
   "outputs": [
    {
     "name": "stderr",
     "output_type": "stream",
     "text": [
      "/opt/conda/lib/python3.10/site-packages/seaborn/_oldcore.py:1119: FutureWarning: use_inf_as_na option is deprecated and will be removed in a future version. Convert inf values to NaN before operating instead.\n",
      "  with pd.option_context('mode.use_inf_as_na', True):\n"
     ]
    },
    {
     "data": {
      "image/png": "[encoded data removed]",
      "text/plain": [
       "<Figure size 1000x600 with 1 Axes>"
      ]
     },
     "metadata": {},
     "output_type": "display_data"
    }
   ],
   "source": [
    "plt.figure(figsize=(10, 6))\n",
    "sns.histplot(data['score'], bins=5, kde=True)\n",
    "plt.title('Distribution of Review Scores')\n",
    "plt.xlabel('Score')\n",
    "plt.ylabel('Frequency')\n",
    "plt.show()"
   ]
  },
  {
   "cell_type": "code",
   "execution_count": 21,
   "id": "0f2990d0",
   "metadata": {
    "execution": {
     "iopub.execute_input": "2024-08-19T10:23:30.889052Z",
     "iopub.status.busy": "2024-08-19T10:23:30.888513Z",
     "iopub.status.idle": "2024-08-19T10:23:38.439552Z",
     "shell.execute_reply": "2024-08-19T10:23:38.438750Z"
    },
    "papermill": {
     "duration": 7.568718,
     "end_time": "2024-08-19T10:23:38.441821",
     "exception": false,
     "start_time": "2024-08-19T10:23:30.873103",
     "status": "completed"
    },
    "tags": []
   },
   "outputs": [],
   "source": [
    "text = ' '.join(df['content'])\n",
    "#wordcloud = WordCloud(width=800, height=400, background_color='black').generate(text)\n",
    "\n",
    "wordcloud = WordCloud(\n",
    "    width=800, \n",
    "    height=400, \n",
    "    background_color='white', \n",
    "    stopwords=stopwords).generate(text)"
   ]
  },
  {
   "cell_type": "code",
   "execution_count": 22,
   "id": "3f38be1e",
   "metadata": {
    "execution": {
     "iopub.execute_input": "2024-08-19T10:23:38.473735Z",
     "iopub.status.busy": "2024-08-19T10:23:38.473029Z",
     "iopub.status.idle": "2024-08-19T10:23:38.846097Z",
     "shell.execute_reply": "2024-08-19T10:23:38.845097Z"
    },
    "papermill": {
     "duration": 0.395558,
     "end_time": "2024-08-19T10:23:38.852941",
     "exception": false,
     "start_time": "2024-08-19T10:23:38.457383",
     "status": "completed"
    },
    "tags": []
   },
   "outputs": [
    {
     "data": {
      "image/png": "[encoded data removed]",
      "text/plain": [
       "<Figure size 1000x600 with 1 Axes>"
      ]
     },
     "metadata": {},
     "output_type": "display_data"
    }
   ],
   "source": [
    "plt.figure(figsize=(10, 6))\n",
    "plt.imshow(wordcloud, interpolation='bilinear')\n",
    "plt.axis('off')\n",
    "plt.show()"
   ]
  },
  {
   "cell_type": "markdown",
   "id": "c1ccc6fb",
   "metadata": {
    "papermill": {
     "duration": 0.018669,
     "end_time": "2024-08-19T10:23:38.891098",
     "exception": false,
     "start_time": "2024-08-19T10:23:38.872429",
     "status": "completed"
    },
    "tags": []
   },
   "source": [
    "# BERT Sentiment Analysis"
   ]
  },
  {
   "cell_type": "code",
   "execution_count": 23,
   "id": "468570ce",
   "metadata": {
    "execution": {
     "iopub.execute_input": "2024-08-19T10:23:38.931055Z",
     "iopub.status.busy": "2024-08-19T10:23:38.930608Z",
     "iopub.status.idle": "2024-08-19T10:23:55.798163Z",
     "shell.execute_reply": "2024-08-19T10:23:55.797387Z"
    },
    "papermill": {
     "duration": 16.890414,
     "end_time": "2024-08-19T10:23:55.800484",
     "exception": false,
     "start_time": "2024-08-19T10:23:38.910070",
     "status": "completed"
    },
    "tags": []
   },
   "outputs": [
    {
     "name": "stderr",
     "output_type": "stream",
     "text": [
      "2024-08-19 10:23:46.570766: E external/local_xla/xla/stream_executor/cuda/cuda_dnn.cc:9261] Unable to register cuDNN factory: Attempting to register factory for plugin cuDNN when one has already been registered\n",
      "2024-08-19 10:23:46.570874: E external/local_xla/xla/stream_executor/cuda/cuda_fft.cc:607] Unable to register cuFFT factory: Attempting to register factory for plugin cuFFT when one has already been registered\n",
      "2024-08-19 10:23:46.693300: E external/local_xla/xla/stream_executor/cuda/cuda_blas.cc:1515] Unable to register cuBLAS factory: Attempting to register factory for plugin cuBLAS when one has already been registered\n"
     ]
    }
   ],
   "source": [
    "from transformers import BertTokenizer, BertForSequenceClassification\n",
    "from transformers import pipeline\n",
    "import torch"
   ]
  },
  {
   "cell_type": "code",
   "execution_count": 24,
   "id": "ca10d891",
   "metadata": {
    "execution": {
     "iopub.execute_input": "2024-08-19T10:23:55.840150Z",
     "iopub.status.busy": "2024-08-19T10:23:55.839533Z",
     "iopub.status.idle": "2024-08-19T10:23:59.193183Z",
     "shell.execute_reply": "2024-08-19T10:23:59.192171Z"
    },
    "papermill": {
     "duration": 3.375738,
     "end_time": "2024-08-19T10:23:59.195616",
     "exception": false,
     "start_time": "2024-08-19T10:23:55.819878",
     "status": "completed"
    },
    "tags": []
   },
   "outputs": [
    {
     "data": {
      "application/vnd.jupyter.widget-view+json": {
       "model_id": "0a768c999bff4b94bc597c5a4ba4c542",
       "version_major": 2,
       "version_minor": 0
      },
      "text/plain": [
       "config.json:   0%|          | 0.00/629 [00:00<?, ?B/s]"
      ]
     },
     "metadata": {},
     "output_type": "display_data"
    },
    {
     "data": {
      "application/vnd.jupyter.widget-view+json": {
       "model_id": "c229b0824cd24e1da9ffd9e776f1daea",
       "version_major": 2,
       "version_minor": 0
      },
      "text/plain": [
       "model.safetensors:   0%|          | 0.00/268M [00:00<?, ?B/s]"
      ]
     },
     "metadata": {},
     "output_type": "display_data"
    },
    {
     "data": {
      "application/vnd.jupyter.widget-view+json": {
       "model_id": "d8b716088a894ad089106fe8ceacf91c",
       "version_major": 2,
       "version_minor": 0
      },
      "text/plain": [
       "tokenizer_config.json:   0%|          | 0.00/48.0 [00:00<?, ?B/s]"
      ]
     },
     "metadata": {},
     "output_type": "display_data"
    },
    {
     "data": {
      "application/vnd.jupyter.widget-view+json": {
       "model_id": "10f8813a2b144a938dd1bd67ecee2ca7",
       "version_major": 2,
       "version_minor": 0
      },
      "text/plain": [
       "vocab.txt:   0%|          | 0.00/232k [00:00<?, ?B/s]"
      ]
     },
     "metadata": {},
     "output_type": "display_data"
    }
   ],
   "source": [
    "nlp = pipeline('sentiment-analysis', model='distilbert-base-uncased-finetuned-sst-2-english', device =0)"
   ]
  },
  {
   "cell_type": "code",
   "execution_count": 25,
   "id": "b2f06c3d",
   "metadata": {
    "execution": {
     "iopub.execute_input": "2024-08-19T10:23:59.237256Z",
     "iopub.status.busy": "2024-08-19T10:23:59.236497Z",
     "iopub.status.idle": "2024-08-19T10:41:40.334715Z",
     "shell.execute_reply": "2024-08-19T10:41:40.333756Z"
    },
    "papermill": {
     "duration": 1061.141309,
     "end_time": "2024-08-19T10:41:40.356949",
     "exception": false,
     "start_time": "2024-08-19T10:23:59.215640",
     "status": "completed"
    },
    "tags": []
   },
   "outputs": [
    {
     "name": "stderr",
     "output_type": "stream",
     "text": [
      "You seem to be using the pipelines sequentially on GPU. In order to maximize efficiency please use a dataset\n",
      "/tmp/ipykernel_24/171870796.py:1: SettingWithCopyWarning: \n",
      "A value is trying to be set on a copy of a slice from a DataFrame.\n",
      "Try using .loc[row_indexer,col_indexer] = value instead\n",
      "\n",
      "See the caveats in the documentation: https://pandas.pydata.org/pandas-docs/stable/user_guide/indexing.html#returning-a-view-versus-a-copy\n",
      "  df['sentiment'] = df['content'].apply(lambda x: nlp(x)[0]['label'])\n"
     ]
    }
   ],
   "source": [
    "df['sentiment'] = df['content'].apply(lambda x: nlp(x)[0]['label'])"
   ]
  },
  {
   "cell_type": "code",
   "execution_count": 26,
   "id": "e678997d",
   "metadata": {
    "execution": {
     "iopub.execute_input": "2024-08-19T10:41:40.397808Z",
     "iopub.status.busy": "2024-08-19T10:41:40.397478Z",
     "iopub.status.idle": "2024-08-19T10:41:40.407291Z",
     "shell.execute_reply": "2024-08-19T10:41:40.406413Z"
    },
    "papermill": {
     "duration": 0.032294,
     "end_time": "2024-08-19T10:41:40.409096",
     "exception": false,
     "start_time": "2024-08-19T10:41:40.376802",
     "status": "completed"
    },
    "tags": []
   },
   "outputs": [
    {
     "data": {
      "text/html": [
       "<div>\n",
       "<style scoped>\n",
       "    .dataframe tbody tr th:only-of-type {\n",
       "        vertical-align: middle;\n",
       "    }\n",
       "\n",
       "    .dataframe tbody tr th {\n",
       "        vertical-align: top;\n",
       "    }\n",
       "\n",
       "    .dataframe thead th {\n",
       "        text-align: right;\n",
       "    }\n",
       "</style>\n",
       "<table border=\"1\" class=\"dataframe\">\n",
       "  <thead>\n",
       "    <tr style=\"text-align: right;\">\n",
       "      <th></th>\n",
       "      <th>content</th>\n",
       "      <th>review_length</th>\n",
       "      <th>sentiment</th>\n",
       "    </tr>\n",
       "  </thead>\n",
       "  <tbody>\n",
       "    <tr>\n",
       "      <th>0</th>\n",
       "      <td>one best apps love best part free</td>\n",
       "      <td>33</td>\n",
       "      <td>POSITIVE</td>\n",
       "    </tr>\n",
       "    <tr>\n",
       "      <th>1</th>\n",
       "      <td>good</td>\n",
       "      <td>4</td>\n",
       "      <td>POSITIVE</td>\n",
       "    </tr>\n",
       "    <tr>\n",
       "      <th>2</th>\n",
       "      <td>best learning</td>\n",
       "      <td>13</td>\n",
       "      <td>POSITIVE</td>\n",
       "    </tr>\n",
       "    <tr>\n",
       "      <th>3</th>\n",
       "      <td>fast excellent</td>\n",
       "      <td>14</td>\n",
       "      <td>POSITIVE</td>\n",
       "    </tr>\n",
       "    <tr>\n",
       "      <th>4</th>\n",
       "      <td>great development use chatgpt frequently love</td>\n",
       "      <td>45</td>\n",
       "      <td>POSITIVE</td>\n",
       "    </tr>\n",
       "  </tbody>\n",
       "</table>\n",
       "</div>"
      ],
      "text/plain": [
       "                                         content  review_length sentiment\n",
       "0              one best apps love best part free             33  POSITIVE\n",
       "1                                           good              4  POSITIVE\n",
       "2                                  best learning             13  POSITIVE\n",
       "3                                 fast excellent             14  POSITIVE\n",
       "4  great development use chatgpt frequently love             45  POSITIVE"
      ]
     },
     "execution_count": 26,
     "metadata": {},
     "output_type": "execute_result"
    }
   ],
   "source": [
    "df.head()"
   ]
  },
  {
   "cell_type": "code",
   "execution_count": 27,
   "id": "344f4f64",
   "metadata": {
    "execution": {
     "iopub.execute_input": "2024-08-19T10:41:40.451010Z",
     "iopub.status.busy": "2024-08-19T10:41:40.450516Z",
     "iopub.status.idle": "2024-08-19T10:41:40.828515Z",
     "shell.execute_reply": "2024-08-19T10:41:40.827569Z"
    },
    "papermill": {
     "duration": 0.400737,
     "end_time": "2024-08-19T10:41:40.830621",
     "exception": false,
     "start_time": "2024-08-19T10:41:40.429884",
     "status": "completed"
    },
    "tags": []
   },
   "outputs": [
    {
     "data": {
      "image/png": "[encoded data removed]",
      "text/plain": [
       "<Figure size 1000x600 with 1 Axes>"
      ]
     },
     "metadata": {},
     "output_type": "display_data"
    }
   ],
   "source": [
    "plt.figure(figsize=(10, 6))\n",
    "sns.countplot(x='sentiment', data=df)\n",
    "plt.title('Distribution of Sentiments')\n",
    "plt.xlabel('Sentiment')\n",
    "plt.ylabel('Count')\n",
    "plt.show()"
   ]
  },
  {
   "cell_type": "code",
   "execution_count": 28,
   "id": "7fd0a6ac",
   "metadata": {
    "execution": {
     "iopub.execute_input": "2024-08-19T10:41:40.872754Z",
     "iopub.status.busy": "2024-08-19T10:41:40.872417Z",
     "iopub.status.idle": "2024-08-19T10:41:40.894520Z",
     "shell.execute_reply": "2024-08-19T10:41:40.893513Z"
    },
    "papermill": {
     "duration": 0.045358,
     "end_time": "2024-08-19T10:41:40.896575",
     "exception": false,
     "start_time": "2024-08-19T10:41:40.851217",
     "status": "completed"
    },
    "tags": []
   },
   "outputs": [
    {
     "name": "stdout",
     "output_type": "stream",
     "text": [
      "                                                  content sentiment\n",
      "107104                             really helps alot free  POSITIVE\n",
      "153845                                                     POSITIVE\n",
      "178501                                     excellent work  POSITIVE\n",
      "143481                                              happy  POSITIVE\n",
      "8118                                                       POSITIVE\n",
      "44266                                                good  POSITIVE\n",
      "87259                    perfect app explore things ideas  POSITIVE\n",
      "96051         good cant send image doesnt generate images  NEGATIVE\n",
      "36406   amazing app ever seen little complain updated ...  NEGATIVE\n",
      "106584                                        useful like  POSITIVE\n"
     ]
    }
   ],
   "source": [
    "print(df[['content', 'sentiment']].sample(10))"
   ]
  },
  {
   "cell_type": "code",
   "execution_count": 29,
   "id": "1bb718b7",
   "metadata": {
    "execution": {
     "iopub.execute_input": "2024-08-19T10:41:40.938885Z",
     "iopub.status.busy": "2024-08-19T10:41:40.938569Z",
     "iopub.status.idle": "2024-08-19T10:59:13.663517Z",
     "shell.execute_reply": "2024-08-19T10:59:13.662581Z"
    },
    "papermill": {
     "duration": 1052.772656,
     "end_time": "2024-08-19T10:59:13.689546",
     "exception": false,
     "start_time": "2024-08-19T10:41:40.916890",
     "status": "completed"
    },
    "tags": []
   },
   "outputs": [
    {
     "name": "stdout",
     "output_type": "stream",
     "text": [
      "                                                  content sentiment  \\\n",
      "28873                     cant open app loading dont know  NEGATIVE   \n",
      "126263                               great quick easy use  POSITIVE   \n",
      "100577                                       best student  POSITIVE   \n",
      "92672   app useful ask question answers good detail th...  POSITIVE   \n",
      "22171                                                      POSITIVE   \n",
      "98034                               words app helped alot  POSITIVE   \n",
      "131346                                               good  POSITIVE   \n",
      "134620                                       usefuli love  POSITIVE   \n",
      "99764                      amazing experience application  POSITIVE   \n",
      "2266                                  show chatbot better  NEGATIVE   \n",
      "\n",
      "        sentiment_score  \n",
      "28873          0.994041  \n",
      "126263         0.999501  \n",
      "100577         0.999834  \n",
      "92672          0.997110  \n",
      "22171          0.748121  \n",
      "98034          0.968832  \n",
      "131346         0.999816  \n",
      "134620         0.999588  \n",
      "99764          0.999866  \n",
      "2266           0.880230  \n"
     ]
    },
    {
     "name": "stderr",
     "output_type": "stream",
     "text": [
      "/tmp/ipykernel_24/1156898113.py:2: SettingWithCopyWarning: \n",
      "A value is trying to be set on a copy of a slice from a DataFrame.\n",
      "Try using .loc[row_indexer,col_indexer] = value instead\n",
      "\n",
      "See the caveats in the documentation: https://pandas.pydata.org/pandas-docs/stable/user_guide/indexing.html#returning-a-view-versus-a-copy\n",
      "  df['sentiment_with_scores'] = df['content'].apply(lambda x: nlp(x))\n",
      "/tmp/ipykernel_24/1156898113.py:5: SettingWithCopyWarning: \n",
      "A value is trying to be set on a copy of a slice from a DataFrame.\n",
      "Try using .loc[row_indexer,col_indexer] = value instead\n",
      "\n",
      "See the caveats in the documentation: https://pandas.pydata.org/pandas-docs/stable/user_guide/indexing.html#returning-a-view-versus-a-copy\n",
      "  df['sentiment_score'] = df['sentiment_with_scores'].apply(lambda x: x[0]['score'])\n"
     ]
    }
   ],
   "source": [
    "# Get predictions with confidence scores\n",
    "df['sentiment_with_scores'] = df['content'].apply(lambda x: nlp(x))\n",
    "\n",
    "# Example of accessing the score\n",
    "df['sentiment_score'] = df['sentiment_with_scores'].apply(lambda x: x[0]['score'])\n",
    "\n",
    "# Display a few examples\n",
    "print(df[['content', 'sentiment', 'sentiment_score']].sample(10))"
   ]
  },
  {
   "cell_type": "code",
   "execution_count": 30,
   "id": "182de365",
   "metadata": {
    "execution": {
     "iopub.execute_input": "2024-08-19T10:59:13.732927Z",
     "iopub.status.busy": "2024-08-19T10:59:13.732054Z",
     "iopub.status.idle": "2024-08-19T10:59:13.750725Z",
     "shell.execute_reply": "2024-08-19T10:59:13.749742Z"
    },
    "papermill": {
     "duration": 0.042677,
     "end_time": "2024-08-19T10:59:13.752768",
     "exception": false,
     "start_time": "2024-08-19T10:59:13.710091",
     "status": "completed"
    },
    "tags": []
   },
   "outputs": [
    {
     "name": "stdout",
     "output_type": "stream",
     "text": [
      "['POSITIVE' 'NEGATIVE']\n"
     ]
    }
   ],
   "source": [
    "unique_labels = df['sentiment'].unique()\n",
    "print(unique_labels)"
   ]
  },
  {
   "cell_type": "code",
   "execution_count": 31,
   "id": "e7317d18",
   "metadata": {
    "execution": {
     "iopub.execute_input": "2024-08-19T10:59:13.796051Z",
     "iopub.status.busy": "2024-08-19T10:59:13.795699Z",
     "iopub.status.idle": "2024-08-19T10:59:13.803277Z",
     "shell.execute_reply": "2024-08-19T10:59:13.802374Z"
    },
    "papermill": {
     "duration": 0.03176,
     "end_time": "2024-08-19T10:59:13.805549",
     "exception": false,
     "start_time": "2024-08-19T10:59:13.773789",
     "status": "completed"
    },
    "tags": []
   },
   "outputs": [
    {
     "name": "stderr",
     "output_type": "stream",
     "text": [
      "/tmp/ipykernel_24/1087858222.py:1: SettingWithCopyWarning: \n",
      "A value is trying to be set on a copy of a slice from a DataFrame.\n",
      "Try using .loc[row_indexer,col_indexer] = value instead\n",
      "\n",
      "See the caveats in the documentation: https://pandas.pydata.org/pandas-docs/stable/user_guide/indexing.html#returning-a-view-versus-a-copy\n",
      "  df.loc[:, 'datetime'] = data['at']\n"
     ]
    }
   ],
   "source": [
    "df.loc[:, 'datetime'] = data['at']"
   ]
  },
  {
   "cell_type": "code",
   "execution_count": 32,
   "id": "a27c1473",
   "metadata": {
    "execution": {
     "iopub.execute_input": "2024-08-19T10:59:13.848581Z",
     "iopub.status.busy": "2024-08-19T10:59:13.848271Z",
     "iopub.status.idle": "2024-08-19T10:59:13.863875Z",
     "shell.execute_reply": "2024-08-19T10:59:13.863003Z"
    },
    "papermill": {
     "duration": 0.03924,
     "end_time": "2024-08-19T10:59:13.865846",
     "exception": false,
     "start_time": "2024-08-19T10:59:13.826606",
     "status": "completed"
    },
    "tags": []
   },
   "outputs": [
    {
     "data": {
      "text/html": [
       "<div>\n",
       "<style scoped>\n",
       "    .dataframe tbody tr th:only-of-type {\n",
       "        vertical-align: middle;\n",
       "    }\n",
       "\n",
       "    .dataframe tbody tr th {\n",
       "        vertical-align: top;\n",
       "    }\n",
       "\n",
       "    .dataframe thead th {\n",
       "        text-align: right;\n",
       "    }\n",
       "</style>\n",
       "<table border=\"1\" class=\"dataframe\">\n",
       "  <thead>\n",
       "    <tr style=\"text-align: right;\">\n",
       "      <th></th>\n",
       "      <th>content</th>\n",
       "      <th>review_length</th>\n",
       "      <th>sentiment</th>\n",
       "      <th>sentiment_with_scores</th>\n",
       "      <th>sentiment_score</th>\n",
       "      <th>datetime</th>\n",
       "    </tr>\n",
       "  </thead>\n",
       "  <tbody>\n",
       "    <tr>\n",
       "      <th>0</th>\n",
       "      <td>one best apps love best part free</td>\n",
       "      <td>33</td>\n",
       "      <td>POSITIVE</td>\n",
       "      <td>[{'label': 'POSITIVE', 'score': 0.999428927898...</td>\n",
       "      <td>0.999429</td>\n",
       "      <td>2024-08-17 19:25:22</td>\n",
       "    </tr>\n",
       "    <tr>\n",
       "      <th>1</th>\n",
       "      <td>good</td>\n",
       "      <td>4</td>\n",
       "      <td>POSITIVE</td>\n",
       "      <td>[{'label': 'POSITIVE', 'score': 0.999816119670...</td>\n",
       "      <td>0.999816</td>\n",
       "      <td>2024-08-17 19:19:56</td>\n",
       "    </tr>\n",
       "    <tr>\n",
       "      <th>2</th>\n",
       "      <td>best learning</td>\n",
       "      <td>13</td>\n",
       "      <td>POSITIVE</td>\n",
       "      <td>[{'label': 'POSITIVE', 'score': 0.999823629856...</td>\n",
       "      <td>0.999824</td>\n",
       "      <td>2024-08-17 19:15:28</td>\n",
       "    </tr>\n",
       "    <tr>\n",
       "      <th>3</th>\n",
       "      <td>fast excellent</td>\n",
       "      <td>14</td>\n",
       "      <td>POSITIVE</td>\n",
       "      <td>[{'label': 'POSITIVE', 'score': 0.999868869781...</td>\n",
       "      <td>0.999869</td>\n",
       "      <td>2024-08-17 19:15:22</td>\n",
       "    </tr>\n",
       "    <tr>\n",
       "      <th>4</th>\n",
       "      <td>great development use chatgpt frequently love</td>\n",
       "      <td>45</td>\n",
       "      <td>POSITIVE</td>\n",
       "      <td>[{'label': 'POSITIVE', 'score': 0.996484041213...</td>\n",
       "      <td>0.996484</td>\n",
       "      <td>2024-08-17 19:14:23</td>\n",
       "    </tr>\n",
       "  </tbody>\n",
       "</table>\n",
       "</div>"
      ],
      "text/plain": [
       "                                         content  review_length sentiment  \\\n",
       "0              one best apps love best part free             33  POSITIVE   \n",
       "1                                           good              4  POSITIVE   \n",
       "2                                  best learning             13  POSITIVE   \n",
       "3                                 fast excellent             14  POSITIVE   \n",
       "4  great development use chatgpt frequently love             45  POSITIVE   \n",
       "\n",
       "                               sentiment_with_scores  sentiment_score  \\\n",
       "0  [{'label': 'POSITIVE', 'score': 0.999428927898...         0.999429   \n",
       "1  [{'label': 'POSITIVE', 'score': 0.999816119670...         0.999816   \n",
       "2  [{'label': 'POSITIVE', 'score': 0.999823629856...         0.999824   \n",
       "3  [{'label': 'POSITIVE', 'score': 0.999868869781...         0.999869   \n",
       "4  [{'label': 'POSITIVE', 'score': 0.996484041213...         0.996484   \n",
       "\n",
       "              datetime  \n",
       "0  2024-08-17 19:25:22  \n",
       "1  2024-08-17 19:19:56  \n",
       "2  2024-08-17 19:15:28  \n",
       "3  2024-08-17 19:15:22  \n",
       "4  2024-08-17 19:14:23  "
      ]
     },
     "execution_count": 32,
     "metadata": {},
     "output_type": "execute_result"
    }
   ],
   "source": [
    "df.head()"
   ]
  },
  {
   "cell_type": "code",
   "execution_count": 33,
   "id": "cdcefd24",
   "metadata": {
    "execution": {
     "iopub.execute_input": "2024-08-19T10:59:13.910618Z",
     "iopub.status.busy": "2024-08-19T10:59:13.910295Z",
     "iopub.status.idle": "2024-08-19T10:59:13.984561Z",
     "shell.execute_reply": "2024-08-19T10:59:13.983537Z"
    },
    "papermill": {
     "duration": 0.098693,
     "end_time": "2024-08-19T10:59:13.986833",
     "exception": false,
     "start_time": "2024-08-19T10:59:13.888140",
     "status": "completed"
    },
    "tags": []
   },
   "outputs": [
    {
     "name": "stderr",
     "output_type": "stream",
     "text": [
      "/tmp/ipykernel_24/2428973335.py:1: SettingWithCopyWarning: \n",
      "A value is trying to be set on a copy of a slice from a DataFrame.\n",
      "Try using .loc[row_indexer,col_indexer] = value instead\n",
      "\n",
      "See the caveats in the documentation: https://pandas.pydata.org/pandas-docs/stable/user_guide/indexing.html#returning-a-view-versus-a-copy\n",
      "  df['datetime'] = pd.to_datetime(df['datetime'])\n"
     ]
    }
   ],
   "source": [
    "df['datetime'] = pd.to_datetime(df['datetime']) \n",
    "df.set_index('datetime', inplace=True)"
   ]
  },
  {
   "cell_type": "code",
   "execution_count": 34,
   "id": "6ccdcf27",
   "metadata": {
    "execution": {
     "iopub.execute_input": "2024-08-19T10:59:14.031739Z",
     "iopub.status.busy": "2024-08-19T10:59:14.031418Z",
     "iopub.status.idle": "2024-08-19T10:59:14.383142Z",
     "shell.execute_reply": "2024-08-19T10:59:14.382294Z"
    },
    "papermill": {
     "duration": 0.375844,
     "end_time": "2024-08-19T10:59:14.385188",
     "exception": false,
     "start_time": "2024-08-19T10:59:14.009344",
     "status": "completed"
    },
    "tags": []
   },
   "outputs": [
    {
     "name": "stderr",
     "output_type": "stream",
     "text": [
      "/tmp/ipykernel_24/1671702622.py:1: FutureWarning: 'M' is deprecated and will be removed in a future version, please use 'ME' instead.\n",
      "  monthly_sentiment = df.resample('M')['sentiment_score'].mean()\n"
     ]
    },
    {
     "data": {
      "image/png": "[encoded data removed]",
      "text/plain": [
       "<Figure size 640x480 with 1 Axes>"
      ]
     },
     "metadata": {},
     "output_type": "display_data"
    }
   ],
   "source": [
    "monthly_sentiment = df.resample('M')['sentiment_score'].mean()\n",
    "monthly_sentiment.plot(kind='line')\n",
    "plt.title('Average Sentiment Score Over Time')\n",
    "plt.xlabel('Month')\n",
    "plt.ylabel('Average Sentiment Score')\n",
    "plt.show()"
   ]
  },
  {
   "cell_type": "markdown",
   "id": "7bf146b6",
   "metadata": {
    "papermill": {
     "duration": 0.022067,
     "end_time": "2024-08-19T10:59:14.429236",
     "exception": false,
     "start_time": "2024-08-19T10:59:14.407169",
     "status": "completed"
    },
    "tags": []
   },
   "source": [
    "# LDA (Latent Dirichlet Allocation) \n",
    "\n",
    "**Topic Modeling: Use techniques like LDA (Latent Dirichlet Allocation) to identify topics within positive and negative reviews.**"
   ]
  },
  {
   "cell_type": "markdown",
   "id": "acdd00ab",
   "metadata": {
    "papermill": {
     "duration": 0.021657,
     "end_time": "2024-08-19T10:59:14.472721",
     "exception": false,
     "start_time": "2024-08-19T10:59:14.451064",
     "status": "completed"
    },
    "tags": []
   },
   "source": [
    "1. Apply LDA: Extract topics from reviews.\n",
    "2. Understand Topics: Identify key terms for each topic.\n",
    "3. Combine with Sentiment: Analyze sentiment scores by topic.\n",
    "4. Generate Insights: Provide actionable recommendations based on the analysis."
   ]
  },
  {
   "cell_type": "code",
   "execution_count": 35,
   "id": "99287338",
   "metadata": {
    "execution": {
     "iopub.execute_input": "2024-08-19T10:59:14.517422Z",
     "iopub.status.busy": "2024-08-19T10:59:14.517056Z",
     "iopub.status.idle": "2024-08-19T10:59:14.544596Z",
     "shell.execute_reply": "2024-08-19T10:59:14.543883Z"
    },
    "papermill": {
     "duration": 0.052372,
     "end_time": "2024-08-19T10:59:14.546683",
     "exception": false,
     "start_time": "2024-08-19T10:59:14.494311",
     "status": "completed"
    },
    "tags": []
   },
   "outputs": [],
   "source": [
    "from sklearn.feature_extraction.text import TfidfVectorizer\n",
    "from sklearn.decomposition import LatentDirichletAllocation"
   ]
  },
  {
   "cell_type": "code",
   "execution_count": 36,
   "id": "ca3183fe",
   "metadata": {
    "execution": {
     "iopub.execute_input": "2024-08-19T10:59:14.590987Z",
     "iopub.status.busy": "2024-08-19T10:59:14.590689Z",
     "iopub.status.idle": "2024-08-19T11:02:41.527120Z",
     "shell.execute_reply": "2024-08-19T11:02:41.526149Z"
    },
    "papermill": {
     "duration": 206.982406,
     "end_time": "2024-08-19T11:02:41.550793",
     "exception": false,
     "start_time": "2024-08-19T10:59:14.568387",
     "status": "completed"
    },
    "tags": []
   },
   "outputs": [
    {
     "data": {
      "text/html": [
       "<style>#sk-container-id-1 {color: black;background-color: white;}#sk-container-id-1 pre{padding: 0;}#sk-container-id-1 div.sk-toggleable {background-color: white;}#sk-container-id-1 label.sk-toggleable__label {cursor: pointer;display: block;width: 100%;margin-bottom: 0;padding: 0.3em;box-sizing: border-box;text-align: center;}#sk-container-id-1 label.sk-toggleable__label-arrow:before {content: \"▸\";float: left;margin-right: 0.25em;color: #696969;}#sk-container-id-1 label.sk-toggleable__label-arrow:hover:before {color: black;}#sk-container-id-1 div.sk-estimator:hover label.sk-toggleable__label-arrow:before {color: black;}#sk-container-id-1 div.sk-toggleable__content {max-height: 0;max-width: 0;overflow: hidden;text-align: left;background-color: #f0f8ff;}#sk-container-id-1 div.sk-toggleable__content pre {margin: 0.2em;color: black;border-radius: 0.25em;background-color: #f0f8ff;}#sk-container-id-1 input.sk-toggleable__control:checked~div.sk-toggleable__content {max-height: 200px;max-width: 100%;overflow: auto;}#sk-container-id-1 input.sk-toggleable__control:checked~label.sk-toggleable__label-arrow:before {content: \"▾\";}#sk-container-id-1 div.sk-estimator input.sk-toggleable__control:checked~label.sk-toggleable__label {background-color: #d4ebff;}#sk-container-id-1 div.sk-label input.sk-toggleable__control:checked~label.sk-toggleable__label {background-color: #d4ebff;}#sk-container-id-1 input.sk-hidden--visually {border: 0;clip: rect(1px 1px 1px 1px);clip: rect(1px, 1px, 1px, 1px);height: 1px;margin: -1px;overflow: hidden;padding: 0;position: absolute;width: 1px;}#sk-container-id-1 div.sk-estimator {font-family: monospace;background-color: #f0f8ff;border: 1px dotted black;border-radius: 0.25em;box-sizing: border-box;margin-bottom: 0.5em;}#sk-container-id-1 div.sk-estimator:hover {background-color: #d4ebff;}#sk-container-id-1 div.sk-parallel-item::after {content: \"\";width: 100%;border-bottom: 1px solid gray;flex-grow: 1;}#sk-container-id-1 div.sk-label:hover label.sk-toggleable__label {background-color: #d4ebff;}#sk-container-id-1 div.sk-serial::before {content: \"\";position: absolute;border-left: 1px solid gray;box-sizing: border-box;top: 0;bottom: 0;left: 50%;z-index: 0;}#sk-container-id-1 div.sk-serial {display: flex;flex-direction: column;align-items: center;background-color: white;padding-right: 0.2em;padding-left: 0.2em;position: relative;}#sk-container-id-1 div.sk-item {position: relative;z-index: 1;}#sk-container-id-1 div.sk-parallel {display: flex;align-items: stretch;justify-content: center;background-color: white;position: relative;}#sk-container-id-1 div.sk-item::before, #sk-container-id-1 div.sk-parallel-item::before {content: \"\";position: absolute;border-left: 1px solid gray;box-sizing: border-box;top: 0;bottom: 0;left: 50%;z-index: -1;}#sk-container-id-1 div.sk-parallel-item {display: flex;flex-direction: column;z-index: 1;position: relative;background-color: white;}#sk-container-id-1 div.sk-parallel-item:first-child::after {align-self: flex-end;width: 50%;}#sk-container-id-1 div.sk-parallel-item:last-child::after {align-self: flex-start;width: 50%;}#sk-container-id-1 div.sk-parallel-item:only-child::after {width: 0;}#sk-container-id-1 div.sk-dashed-wrapped {border: 1px dashed gray;margin: 0 0.4em 0.5em 0.4em;box-sizing: border-box;padding-bottom: 0.4em;background-color: white;}#sk-container-id-1 div.sk-label label {font-family: monospace;font-weight: bold;display: inline-block;line-height: 1.2em;}#sk-container-id-1 div.sk-label-container {text-align: center;}#sk-container-id-1 div.sk-container {/* jupyter's `normalize.less` sets `[hidden] { display: none; }` but bootstrap.min.css set `[hidden] { display: none !important; }` so we also need the `!important` here to be able to override the default hidden behavior on the sphinx rendered scikit-learn.org. See: https://github.com/scikit-learn/scikit-learn/issues/21755 */display: inline-block !important;position: relative;}#sk-container-id-1 div.sk-text-repr-fallback {display: none;}</style><div id=\"sk-container-id-1\" class=\"sk-top-container\"><div class=\"sk-text-repr-fallback\"><pre>LatentDirichletAllocation(n_components=5)</pre><b>In a Jupyter environment, please rerun this cell to show the HTML representation or trust the notebook. <br />On GitHub, the HTML representation is unable to render, please try loading this page with nbviewer.org.</b></div><div class=\"sk-container\" hidden><div class=\"sk-item\"><div class=\"sk-estimator sk-toggleable\"><input class=\"sk-toggleable__control sk-hidden--visually\" id=\"sk-estimator-id-1\" type=\"checkbox\" checked><label for=\"sk-estimator-id-1\" class=\"sk-toggleable__label sk-toggleable__label-arrow\">LatentDirichletAllocation</label><div class=\"sk-toggleable__content\"><pre>LatentDirichletAllocation(n_components=5)</pre></div></div></div></div></div>"
      ],
      "text/plain": [
       "LatentDirichletAllocation(n_components=5)"
      ]
     },
     "execution_count": 36,
     "metadata": {},
     "output_type": "execute_result"
    }
   ],
   "source": [
    "vectorizer = TfidfVectorizer(stop_words='english')\n",
    "X = vectorizer.fit_transform(df['content'])\n",
    "lda = LatentDirichletAllocation(n_components=5)\n",
    "lda.fit(X)"
   ]
  },
  {
   "cell_type": "code",
   "execution_count": 37,
   "id": "f6fe3abf",
   "metadata": {
    "execution": {
     "iopub.execute_input": "2024-08-19T11:02:41.595578Z",
     "iopub.status.busy": "2024-08-19T11:02:41.595262Z",
     "iopub.status.idle": "2024-08-19T11:02:52.070574Z",
     "shell.execute_reply": "2024-08-19T11:02:52.069773Z"
    },
    "papermill": {
     "duration": 10.500184,
     "end_time": "2024-08-19T11:02:52.072804",
     "exception": false,
     "start_time": "2024-08-19T11:02:41.572620",
     "status": "completed"
    },
    "tags": []
   },
   "outputs": [],
   "source": [
    "topic_distribution = lda.transform(X)"
   ]
  },
  {
   "cell_type": "code",
   "execution_count": 38,
   "id": "110c3f13",
   "metadata": {
    "execution": {
     "iopub.execute_input": "2024-08-19T11:02:52.119684Z",
     "iopub.status.busy": "2024-08-19T11:02:52.119338Z",
     "iopub.status.idle": "2024-08-19T11:02:52.129341Z",
     "shell.execute_reply": "2024-08-19T11:02:52.128445Z"
    },
    "papermill": {
     "duration": 0.035944,
     "end_time": "2024-08-19T11:02:52.131380",
     "exception": false,
     "start_time": "2024-08-19T11:02:52.095436",
     "status": "completed"
    },
    "tags": []
   },
   "outputs": [
    {
     "name": "stderr",
     "output_type": "stream",
     "text": [
      "/tmp/ipykernel_24/2918151477.py:1: SettingWithCopyWarning: \n",
      "A value is trying to be set on a copy of a slice from a DataFrame.\n",
      "Try using .loc[row_indexer,col_indexer] = value instead\n",
      "\n",
      "See the caveats in the documentation: https://pandas.pydata.org/pandas-docs/stable/user_guide/indexing.html#returning-a-view-versus-a-copy\n",
      "  df['topic'] = np.argmax(topic_distribution, axis=1)\n"
     ]
    }
   ],
   "source": [
    "df['topic'] = np.argmax(topic_distribution, axis=1)"
   ]
  },
  {
   "cell_type": "code",
   "execution_count": 39,
   "id": "569624b5",
   "metadata": {
    "execution": {
     "iopub.execute_input": "2024-08-19T11:02:52.177248Z",
     "iopub.status.busy": "2024-08-19T11:02:52.176563Z",
     "iopub.status.idle": "2024-08-19T11:02:52.192516Z",
     "shell.execute_reply": "2024-08-19T11:02:52.191520Z"
    },
    "papermill": {
     "duration": 0.040814,
     "end_time": "2024-08-19T11:02:52.194361",
     "exception": false,
     "start_time": "2024-08-19T11:02:52.153547",
     "status": "completed"
    },
    "tags": []
   },
   "outputs": [
    {
     "data": {
      "text/html": [
       "<div>\n",
       "<style scoped>\n",
       "    .dataframe tbody tr th:only-of-type {\n",
       "        vertical-align: middle;\n",
       "    }\n",
       "\n",
       "    .dataframe tbody tr th {\n",
       "        vertical-align: top;\n",
       "    }\n",
       "\n",
       "    .dataframe thead th {\n",
       "        text-align: right;\n",
       "    }\n",
       "</style>\n",
       "<table border=\"1\" class=\"dataframe\">\n",
       "  <thead>\n",
       "    <tr style=\"text-align: right;\">\n",
       "      <th></th>\n",
       "      <th>content</th>\n",
       "      <th>review_length</th>\n",
       "      <th>sentiment</th>\n",
       "      <th>sentiment_with_scores</th>\n",
       "      <th>sentiment_score</th>\n",
       "      <th>topic</th>\n",
       "    </tr>\n",
       "    <tr>\n",
       "      <th>datetime</th>\n",
       "      <th></th>\n",
       "      <th></th>\n",
       "      <th></th>\n",
       "      <th></th>\n",
       "      <th></th>\n",
       "      <th></th>\n",
       "    </tr>\n",
       "  </thead>\n",
       "  <tbody>\n",
       "    <tr>\n",
       "      <th>2024-08-17 19:25:22</th>\n",
       "      <td>one best apps love best part free</td>\n",
       "      <td>33</td>\n",
       "      <td>POSITIVE</td>\n",
       "      <td>[{'label': 'POSITIVE', 'score': 0.999428927898...</td>\n",
       "      <td>0.999429</td>\n",
       "      <td>1</td>\n",
       "    </tr>\n",
       "    <tr>\n",
       "      <th>2024-08-17 19:19:56</th>\n",
       "      <td>good</td>\n",
       "      <td>4</td>\n",
       "      <td>POSITIVE</td>\n",
       "      <td>[{'label': 'POSITIVE', 'score': 0.999816119670...</td>\n",
       "      <td>0.999816</td>\n",
       "      <td>3</td>\n",
       "    </tr>\n",
       "    <tr>\n",
       "      <th>2024-08-17 19:15:28</th>\n",
       "      <td>best learning</td>\n",
       "      <td>13</td>\n",
       "      <td>POSITIVE</td>\n",
       "      <td>[{'label': 'POSITIVE', 'score': 0.999823629856...</td>\n",
       "      <td>0.999824</td>\n",
       "      <td>2</td>\n",
       "    </tr>\n",
       "    <tr>\n",
       "      <th>2024-08-17 19:15:22</th>\n",
       "      <td>fast excellent</td>\n",
       "      <td>14</td>\n",
       "      <td>POSITIVE</td>\n",
       "      <td>[{'label': 'POSITIVE', 'score': 0.999868869781...</td>\n",
       "      <td>0.999869</td>\n",
       "      <td>1</td>\n",
       "    </tr>\n",
       "    <tr>\n",
       "      <th>2024-08-17 19:14:23</th>\n",
       "      <td>great development use chatgpt frequently love</td>\n",
       "      <td>45</td>\n",
       "      <td>POSITIVE</td>\n",
       "      <td>[{'label': 'POSITIVE', 'score': 0.996484041213...</td>\n",
       "      <td>0.996484</td>\n",
       "      <td>1</td>\n",
       "    </tr>\n",
       "  </tbody>\n",
       "</table>\n",
       "</div>"
      ],
      "text/plain": [
       "                                                           content  \\\n",
       "datetime                                                             \n",
       "2024-08-17 19:25:22              one best apps love best part free   \n",
       "2024-08-17 19:19:56                                           good   \n",
       "2024-08-17 19:15:28                                  best learning   \n",
       "2024-08-17 19:15:22                                 fast excellent   \n",
       "2024-08-17 19:14:23  great development use chatgpt frequently love   \n",
       "\n",
       "                     review_length sentiment  \\\n",
       "datetime                                       \n",
       "2024-08-17 19:25:22             33  POSITIVE   \n",
       "2024-08-17 19:19:56              4  POSITIVE   \n",
       "2024-08-17 19:15:28             13  POSITIVE   \n",
       "2024-08-17 19:15:22             14  POSITIVE   \n",
       "2024-08-17 19:14:23             45  POSITIVE   \n",
       "\n",
       "                                                 sentiment_with_scores  \\\n",
       "datetime                                                                 \n",
       "2024-08-17 19:25:22  [{'label': 'POSITIVE', 'score': 0.999428927898...   \n",
       "2024-08-17 19:19:56  [{'label': 'POSITIVE', 'score': 0.999816119670...   \n",
       "2024-08-17 19:15:28  [{'label': 'POSITIVE', 'score': 0.999823629856...   \n",
       "2024-08-17 19:15:22  [{'label': 'POSITIVE', 'score': 0.999868869781...   \n",
       "2024-08-17 19:14:23  [{'label': 'POSITIVE', 'score': 0.996484041213...   \n",
       "\n",
       "                     sentiment_score  topic  \n",
       "datetime                                     \n",
       "2024-08-17 19:25:22         0.999429      1  \n",
       "2024-08-17 19:19:56         0.999816      3  \n",
       "2024-08-17 19:15:28         0.999824      2  \n",
       "2024-08-17 19:15:22         0.999869      1  \n",
       "2024-08-17 19:14:23         0.996484      1  "
      ]
     },
     "execution_count": 39,
     "metadata": {},
     "output_type": "execute_result"
    }
   ],
   "source": [
    "df.head()"
   ]
  },
  {
   "cell_type": "code",
   "execution_count": 40,
   "id": "67a2152e",
   "metadata": {
    "execution": {
     "iopub.execute_input": "2024-08-19T11:02:52.240178Z",
     "iopub.status.busy": "2024-08-19T11:02:52.239600Z",
     "iopub.status.idle": "2024-08-19T11:02:52.284746Z",
     "shell.execute_reply": "2024-08-19T11:02:52.283697Z"
    },
    "papermill": {
     "duration": 0.070085,
     "end_time": "2024-08-19T11:02:52.286592",
     "exception": false,
     "start_time": "2024-08-19T11:02:52.216507",
     "status": "completed"
    },
    "tags": []
   },
   "outputs": [
    {
     "name": "stdout",
     "output_type": "stream",
     "text": [
      "Topic 0: service thats life beautiful works incredible app superb perfect amazing\n",
      "Topic 1: ai like fantastic answers information better answer chatgpt app excellent\n",
      "Topic 2: experience help helps use really ai app great helpful best\n",
      "Topic 3: application really thank ai ok cool wow app nice good\n",
      "Topic 4: helping helpfull outstanding wonderful like app super awesome useful love\n"
     ]
    }
   ],
   "source": [
    "n_words = 10\n",
    "feature_names = vectorizer.get_feature_names_out()\n",
    "for topic_idx, topic in enumerate(lda.components_):\n",
    "    top_words = [feature_names[i] for i in topic.argsort()[-n_words:]]\n",
    "    print(f\"Topic {topic_idx}: {' '.join(top_words)}\")"
   ]
  },
  {
   "cell_type": "code",
   "execution_count": 41,
   "id": "3a4a6db9",
   "metadata": {
    "execution": {
     "iopub.execute_input": "2024-08-19T11:02:52.332519Z",
     "iopub.status.busy": "2024-08-19T11:02:52.332220Z",
     "iopub.status.idle": "2024-08-19T11:02:52.343801Z",
     "shell.execute_reply": "2024-08-19T11:02:52.342684Z"
    },
    "papermill": {
     "duration": 0.036826,
     "end_time": "2024-08-19T11:02:52.345819",
     "exception": false,
     "start_time": "2024-08-19T11:02:52.308993",
     "status": "completed"
    },
    "tags": []
   },
   "outputs": [
    {
     "name": "stdout",
     "output_type": "stream",
     "text": [
      "   topic  sentiment_score\n",
      "0      0         0.926591\n",
      "1      1         0.966390\n",
      "2      2         0.984410\n",
      "3      3         0.991364\n",
      "4      4         0.976287\n"
     ]
    }
   ],
   "source": [
    "topic_sentiment = df.groupby('topic')['sentiment_score'].mean().reset_index()\n",
    "print(topic_sentiment)"
   ]
  },
  {
   "cell_type": "code",
   "execution_count": 42,
   "id": "f646c8e9",
   "metadata": {
    "execution": {
     "iopub.execute_input": "2024-08-19T11:02:52.391504Z",
     "iopub.status.busy": "2024-08-19T11:02:52.391214Z",
     "iopub.status.idle": "2024-08-19T11:02:52.584195Z",
     "shell.execute_reply": "2024-08-19T11:02:52.583302Z"
    },
    "papermill": {
     "duration": 0.218036,
     "end_time": "2024-08-19T11:02:52.586103",
     "exception": false,
     "start_time": "2024-08-19T11:02:52.368067",
     "status": "completed"
    },
    "tags": []
   },
   "outputs": [
    {
     "data": {
      "image/png": "[encoded data removed]",
      "text/plain": [
       "<Figure size 1000x600 with 1 Axes>"
      ]
     },
     "metadata": {},
     "output_type": "display_data"
    }
   ],
   "source": [
    "plt.figure(figsize=(10, 6))\n",
    "sns.barplot(x='topic', y='sentiment_score', data=topic_sentiment)\n",
    "plt.title('Average Sentiment Score by Topic')\n",
    "plt.xlabel('Topic')\n",
    "plt.ylabel('Average Sentiment Score')\n",
    "plt.xticks(rotation=45)\n",
    "plt.show()"
   ]
  },
  {
   "cell_type": "markdown",
   "id": "2923e9e6",
   "metadata": {
    "papermill": {
     "duration": 0.022753,
     "end_time": "2024-08-19T11:02:52.632303",
     "exception": false,
     "start_time": "2024-08-19T11:02:52.609550",
     "status": "completed"
    },
    "tags": []
   },
   "source": [
    "Overall Positive Sentiment: All topics have high average sentiment scores, indicating that users generally have positive feelings across the different topics. The sentiment scores are close to 1, suggesting a high level of satisfaction.\n",
    "\n",
    "Best Performing Topics: Topic 3 has the highest average sentiment score (0.992), which means that reviews associated with this topic are perceived the most positively. This could indicate that this topic is associated with features or aspects that users particularly enjoy.\n",
    "\n",
    "Consistent Satisfaction: Topics 0, 1, 2, and 4 also have high sentiment scores, though slightly lower than Topic 3. This consistency in positive sentiment suggests that there are no major issues across the different topics."
   ]
  }
 ],
 "metadata": {
  "kaggle": {
   "accelerator": "gpu",
   "dataSources": [
    {
     "databundleVersionId": 9382955,
     "datasetId": 4997049,
     "sourceId": 9198872,
     "sourceType": "datasetVersion"
    }
   ],
   "dockerImageVersionId": 30747,
   "isGpuEnabled": true,
   "isInternetEnabled": true,
   "language": "python",
   "sourceType": "notebook"
  },
  "kernelspec": {
   "display_name": "Python 3",
   "language": "python",
   "name": "python3"
  },
  "language_info": {
   "codemirror_mode": {
    "name": "ipython",
    "version": 3
   },
   "file_extension": ".py",
   "mimetype": "text/x-python",
   "name": "python",
   "nbconvert_exporter": "python",
   "pygments_lexer": "ipython3",
   "version": "3.10.13"
  },
  "papermill": {
   "default_parameters": {},
   "duration": 2403.16593,
   "end_time": "2024-08-19T11:02:55.524222",
   "environment_variables": {},
   "exception": null,
   "input_path": "__notebook__.ipynb",
   "output_path": "__notebook__.ipynb",
   "parameters": {},
   "start_time": "2024-08-19T10:22:52.358292",
   "version": "2.5.0"
  },
  "widgets": {
   "application/vnd.jupyter.widget-state+json": {
    "state": {
     "08d9de8cef8c49a097e0aa619a439afc": {
      "model_module": "@jupyter-widgets/controls",
      "model_module_version": "1.5.0",
      "model_name": "FloatProgressModel",
      "state": {
       "_dom_classes": [],
       "_model_module": "@jupyter-widgets/controls",
       "_model_module_version": "1.5.0",
       "_model_name": "FloatProgressModel",
       "_view_count": null,
       "_view_module": "@jupyter-widgets/controls",
       "_view_module_version": "1.5.0",
       "_view_name": "ProgressView",
       "bar_style": "success",
       "description": "",
       "description_tooltip": null,
       "layout": "IPY_MODEL_7490039a4b14486bb022052c6166d267",
       "max": 231508.0,
       "min": 0.0,
       "orientation": "horizontal",
       "style": "IPY_MODEL_fc34553782f344cdbf09b3e560c64caa",
       "value": 231508.0
      }
     },
     "0a069b8cc9694239b84b778deb20cf02": {
      "model_module": "@jupyter-widgets/controls",
      "model_module_version": "1.5.0",
      "model_name": "ProgressStyleModel",
      "state": {
       "_model_module": "@jupyter-widgets/controls",
       "_model_module_version": "1.5.0",
       "_model_name": "ProgressStyleModel",
       "_view_count": null,
       "_view_module": "@jupyter-widgets/base",
       "_view_module_version": "1.2.0",
       "_view_name": "StyleView",
       "bar_color": null,
       "description_width": ""
      }
     },
     "0a768c999bff4b94bc597c5a4ba4c542": {
      "model_module": "@jupyter-widgets/controls",
      "model_module_version": "1.5.0",
      "model_name": "HBoxModel",
      "state": {
       "_dom_classes": [],
       "_model_module": "@jupyter-widgets/controls",
       "_model_module_version": "1.5.0",
       "_model_name": "HBoxModel",
       "_view_count": null,
       "_view_module": "@jupyter-widgets/controls",
       "_view_module_version": "1.5.0",
       "_view_name": "HBoxView",
       "box_style": "",
       "children": [
        "IPY_MODEL_1a7155e7dd9c4e01840b406e476a84b2",
        "IPY_MODEL_df29ad58cd7f40ccaa89a4c604220713",
        "IPY_MODEL_8034c49d6ca54343bfe3c353dbd51c92"
       ],
       "layout": "IPY_MODEL_1100930466ac4dfc9ed5733cd36e4ba8"
      }
     },
     "0af48e0850cd4b33a00e6cc6531d599e": {
      "model_module": "@jupyter-widgets/base",
      "model_module_version": "1.2.0",
      "model_name": "LayoutModel",
      "state": {
       "_model_module": "@jupyter-widgets/base",
       "_model_module_version": "1.2.0",
       "_model_name": "LayoutModel",
       "_view_count": null,
       "_view_module": "@jupyter-widgets/base",
       "_view_module_version": "1.2.0",
       "_view_name": "LayoutView",
       "align_content": null,
       "align_items": null,
       "align_self": null,
       "border": null,
       "bottom": null,
       "display": null,
       "flex": null,
       "flex_flow": null,
       "grid_area": null,
       "grid_auto_columns": null,
       "grid_auto_flow": null,
       "grid_auto_rows": null,
       "grid_column": null,
       "grid_gap": null,
       "grid_row": null,
       "grid_template_areas": null,
       "grid_template_columns": null,
       "grid_template_rows": null,
       "height": null,
       "justify_content": null,
       "justify_items": null,
       "left": null,
       "margin": null,
       "max_height": null,
       "max_width": null,
       "min_height": null,
       "min_width": null,
       "object_fit": null,
       "object_position": null,
       "order": null,
       "overflow": null,
       "overflow_x": null,
       "overflow_y": null,
       "padding": null,
       "right": null,
       "top": null,
       "visibility": null,
       "width": null
      }
     },
     "10f8813a2b144a938dd1bd67ecee2ca7": {
      "model_module": "@jupyter-widgets/controls",
      "model_module_version": "1.5.0",
      "model_name": "HBoxModel",
      "state": {
       "_dom_classes": [],
       "_model_module": "@jupyter-widgets/controls",
       "_model_module_version": "1.5.0",
       "_model_name": "HBoxModel",
       "_view_count": null,
       "_view_module": "@jupyter-widgets/controls",
       "_view_module_version": "1.5.0",
       "_view_name": "HBoxView",
       "box_style": "",
       "children": [
        "IPY_MODEL_b5f951540c36445b970250259def86cd",
        "IPY_MODEL_08d9de8cef8c49a097e0aa619a439afc",
        "IPY_MODEL_cab39bbd1c954a7e9f0ddca9519531b3"
       ],
       "layout": "IPY_MODEL_cecc1d7d796a4ecfa97a80e37019d25a"
      }
     },
     "1100930466ac4dfc9ed5733cd36e4ba8": {
      "model_module": "@jupyter-widgets/base",
      "model_module_version": "1.2.0",
      "model_name": "LayoutModel",
      "state": {
       "_model_module": "@jupyter-widgets/base",
       "_model_module_version": "1.2.0",
       "_model_name": "LayoutModel",
       "_view_count": null,
       "_view_module": "@jupyter-widgets/base",
       "_view_module_version": "1.2.0",
       "_view_name": "LayoutView",
       "align_content": null,
       "align_items": null,
       "align_self": null,
       "border": null,
       "bottom": null,
       "display": null,
       "flex": null,
       "flex_flow": null,
       "grid_area": null,
       "grid_auto_columns": null,
       "grid_auto_flow": null,
       "grid_auto_rows": null,
       "grid_column": null,
       "grid_gap": null,
       "grid_row": null,
       "grid_template_areas": null,
       "grid_template_columns": null,
       "grid_template_rows": null,
       "height": null,
       "justify_content": null,
       "justify_items": null,
       "left": null,
       "margin": null,
       "max_height": null,
       "max_width": null,
       "min_height": null,
       "min_width": null,
       "object_fit": null,
       "object_position": null,
       "order": null,
       "overflow": null,
       "overflow_x": null,
       "overflow_y": null,
       "padding": null,
       "right": null,
       "top": null,
       "visibility": null,
       "width": null
      }
     },
     "19504ed066444a1387c6059ea82d0494": {
      "model_module": "@jupyter-widgets/controls",
      "model_module_version": "1.5.0",
      "model_name": "FloatProgressModel",
      "state": {
       "_dom_classes": [],
       "_model_module": "@jupyter-widgets/controls",
       "_model_module_version": "1.5.0",
       "_model_name": "FloatProgressModel",
       "_view_count": null,
       "_view_module": "@jupyter-widgets/controls",
       "_view_module_version": "1.5.0",
       "_view_name": "ProgressView",
       "bar_style": "success",
       "description": "",
       "description_tooltip": null,
       "layout": "IPY_MODEL_d046903d6e7f4237bd86d352b12047be",
       "max": 267832558.0,
       "min": 0.0,
       "orientation": "horizontal",
       "style": "IPY_MODEL_0a069b8cc9694239b84b778deb20cf02",
       "value": 267832558.0
      }
     },
     "1a5d8342969b4c4ca08ff5733982e6cf": {
      "model_module": "@jupyter-widgets/controls",
      "model_module_version": "1.5.0",
      "model_name": "ProgressStyleModel",
      "state": {
       "_model_module": "@jupyter-widgets/controls",
       "_model_module_version": "1.5.0",
       "_model_name": "ProgressStyleModel",
       "_view_count": null,
       "_view_module": "@jupyter-widgets/base",
       "_view_module_version": "1.2.0",
       "_view_name": "StyleView",
       "bar_color": null,
       "description_width": ""
      }
     },
     "1a7155e7dd9c4e01840b406e476a84b2": {
      "model_module": "@jupyter-widgets/controls",
      "model_module_version": "1.5.0",
      "model_name": "HTMLModel",
      "state": {
       "_dom_classes": [],
       "_model_module": "@jupyter-widgets/controls",
       "_model_module_version": "1.5.0",
       "_model_name": "HTMLModel",
       "_view_count": null,
       "_view_module": "@jupyter-widgets/controls",
       "_view_module_version": "1.5.0",
       "_view_name": "HTMLView",
       "description": "",
       "description_tooltip": null,
       "layout": "IPY_MODEL_8a9e96b472894e779fa4a7bfcc59ca5e",
       "placeholder": "​",
       "style": "IPY_MODEL_9cfc4e2b04204de0b6c50205c4772abe",
       "value": "config.json: 100%"
      }
     },
     "21a8baa4e6d94c08a20c09770e5b1578": {
      "model_module": "@jupyter-widgets/controls",
      "model_module_version": "1.5.0",
      "model_name": "DescriptionStyleModel",
      "state": {
       "_model_module": "@jupyter-widgets/controls",
       "_model_module_version": "1.5.0",
       "_model_name": "DescriptionStyleModel",
       "_view_count": null,
       "_view_module": "@jupyter-widgets/base",
       "_view_module_version": "1.2.0",
       "_view_name": "StyleView",
       "description_width": ""
      }
     },
     "3f89fb51398549b494d540c41a01bf8d": {
      "model_module": "@jupyter-widgets/controls",
      "model_module_version": "1.5.0",
      "model_name": "DescriptionStyleModel",
      "state": {
       "_model_module": "@jupyter-widgets/controls",
       "_model_module_version": "1.5.0",
       "_model_name": "DescriptionStyleModel",
       "_view_count": null,
       "_view_module": "@jupyter-widgets/base",
       "_view_module_version": "1.2.0",
       "_view_name": "StyleView",
       "description_width": ""
      }
     },
     "41eab9a1e0d443818d7649b1e551669e": {
      "model_module": "@jupyter-widgets/base",
      "model_module_version": "1.2.0",
      "model_name": "LayoutModel",
      "state": {
       "_model_module": "@jupyter-widgets/base",
       "_model_module_version": "1.2.0",
       "_model_name": "LayoutModel",
       "_view_count": null,
       "_view_module": "@jupyter-widgets/base",
       "_view_module_version": "1.2.0",
       "_view_name": "LayoutView",
       "align_content": null,
       "align_items": null,
       "align_self": null,
       "border": null,
       "bottom": null,
       "display": null,
       "flex": null,
       "flex_flow": null,
       "grid_area": null,
       "grid_auto_columns": null,
       "grid_auto_flow": null,
       "grid_auto_rows": null,
       "grid_column": null,
       "grid_gap": null,
       "grid_row": null,
       "grid_template_areas": null,
       "grid_template_columns": null,
       "grid_template_rows": null,
       "height": null,
       "justify_content": null,
       "justify_items": null,
       "left": null,
       "margin": null,
       "max_height": null,
       "max_width": null,
       "min_height": null,
       "min_width": null,
       "object_fit": null,
       "object_position": null,
       "order": null,
       "overflow": null,
       "overflow_x": null,
       "overflow_y": null,
       "padding": null,
       "right": null,
       "top": null,
       "visibility": null,
       "width": null
      }
     },
     "41f97d959f554ea6891efe6dca950614": {
      "model_module": "@jupyter-widgets/base",
      "model_module_version": "1.2.0",
      "model_name": "LayoutModel",
      "state": {
       "_model_module": "@jupyter-widgets/base",
       "_model_module_version": "1.2.0",
       "_model_name": "LayoutModel",
       "_view_count": null,
       "_view_module": "@jupyter-widgets/base",
       "_view_module_version": "1.2.0",
       "_view_name": "LayoutView",
       "align_content": null,
       "align_items": null,
       "align_self": null,
       "border": null,
       "bottom": null,
       "display": null,
       "flex": null,
       "flex_flow": null,
       "grid_area": null,
       "grid_auto_columns": null,
       "grid_auto_flow": null,
       "grid_auto_rows": null,
       "grid_column": null,
       "grid_gap": null,
       "grid_row": null,
       "grid_template_areas": null,
       "grid_template_columns": null,
       "grid_template_rows": null,
       "height": null,
       "justify_content": null,
       "justify_items": null,
       "left": null,
       "margin": null,
       "max_height": null,
       "max_width": null,
       "min_height": null,
       "min_width": null,
       "object_fit": null,
       "object_position": null,
       "order": null,
       "overflow": null,
       "overflow_x": null,
       "overflow_y": null,
       "padding": null,
       "right": null,
       "top": null,
       "visibility": null,
       "width": null
      }
     },
     "49d9078f3c6742f3af383633c3181558": {
      "model_module": "@jupyter-widgets/base",
      "model_module_version": "1.2.0",
      "model_name": "LayoutModel",
      "state": {
       "_model_module": "@jupyter-widgets/base",
       "_model_module_version": "1.2.0",
       "_model_name": "LayoutModel",
       "_view_count": null,
       "_view_module": "@jupyter-widgets/base",
       "_view_module_version": "1.2.0",
       "_view_name": "LayoutView",
       "align_content": null,
       "align_items": null,
       "align_self": null,
       "border": null,
       "bottom": null,
       "display": null,
       "flex": null,
       "flex_flow": null,
       "grid_area": null,
       "grid_auto_columns": null,
       "grid_auto_flow": null,
       "grid_auto_rows": null,
       "grid_column": null,
       "grid_gap": null,
       "grid_row": null,
       "grid_template_areas": null,
       "grid_template_columns": null,
       "grid_template_rows": null,
       "height": null,
       "justify_content": null,
       "justify_items": null,
       "left": null,
       "margin": null,
       "max_height": null,
       "max_width": null,
       "min_height": null,
       "min_width": null,
       "object_fit": null,
       "object_position": null,
       "order": null,
       "overflow": null,
       "overflow_x": null,
       "overflow_y": null,
       "padding": null,
       "right": null,
       "top": null,
       "visibility": null,
       "width": null
      }
     },
     "5a2bf15c24194d44a50ac020c6f707a7": {
      "model_module": "@jupyter-widgets/controls",
      "model_module_version": "1.5.0",
      "model_name": "DescriptionStyleModel",
      "state": {
       "_model_module": "@jupyter-widgets/controls",
       "_model_module_version": "1.5.0",
       "_model_name": "DescriptionStyleModel",
       "_view_count": null,
       "_view_module": "@jupyter-widgets/base",
       "_view_module_version": "1.2.0",
       "_view_name": "StyleView",
       "description_width": ""
      }
     },
     "6046c02435824113a0a97de8a7a123de": {
      "model_module": "@jupyter-widgets/base",
      "model_module_version": "1.2.0",
      "model_name": "LayoutModel",
      "state": {
       "_model_module": "@jupyter-widgets/base",
       "_model_module_version": "1.2.0",
       "_model_name": "LayoutModel",
       "_view_count": null,
       "_view_module": "@jupyter-widgets/base",
       "_view_module_version": "1.2.0",
       "_view_name": "LayoutView",
       "align_content": null,
       "align_items": null,
       "align_self": null,
       "border": null,
       "bottom": null,
       "display": null,
       "flex": null,
       "flex_flow": null,
       "grid_area": null,
       "grid_auto_columns": null,
       "grid_auto_flow": null,
       "grid_auto_rows": null,
       "grid_column": null,
       "grid_gap": null,
       "grid_row": null,
       "grid_template_areas": null,
       "grid_template_columns": null,
       "grid_template_rows": null,
       "height": null,
       "justify_content": null,
       "justify_items": null,
       "left": null,
       "margin": null,
       "max_height": null,
       "max_width": null,
       "min_height": null,
       "min_width": null,
       "object_fit": null,
       "object_position": null,
       "order": null,
       "overflow": null,
       "overflow_x": null,
       "overflow_y": null,
       "padding": null,
       "right": null,
       "top": null,
       "visibility": null,
       "width": null
      }
     },
     "698d21ef6bba46fdb713ce3195a1a03a": {
      "model_module": "@jupyter-widgets/controls",
      "model_module_version": "1.5.0",
      "model_name": "DescriptionStyleModel",
      "state": {
       "_model_module": "@jupyter-widgets/controls",
       "_model_module_version": "1.5.0",
       "_model_name": "DescriptionStyleModel",
       "_view_count": null,
       "_view_module": "@jupyter-widgets/base",
       "_view_module_version": "1.2.0",
       "_view_name": "StyleView",
       "description_width": ""
      }
     },
     "6ccfde98687a4d72a82334a5a7b67e90": {
      "model_module": "@jupyter-widgets/controls",
      "model_module_version": "1.5.0",
      "model_name": "ProgressStyleModel",
      "state": {
       "_model_module": "@jupyter-widgets/controls",
       "_model_module_version": "1.5.0",
       "_model_name": "ProgressStyleModel",
       "_view_count": null,
       "_view_module": "@jupyter-widgets/base",
       "_view_module_version": "1.2.0",
       "_view_name": "StyleView",
       "bar_color": null,
       "description_width": ""
      }
     },
     "7490039a4b14486bb022052c6166d267": {
      "model_module": "@jupyter-widgets/base",
      "model_module_version": "1.2.0",
      "model_name": "LayoutModel",
      "state": {
       "_model_module": "@jupyter-widgets/base",
       "_model_module_version": "1.2.0",
       "_model_name": "LayoutModel",
       "_view_count": null,
       "_view_module": "@jupyter-widgets/base",
       "_view_module_version": "1.2.0",
       "_view_name": "LayoutView",
       "align_content": null,
       "align_items": null,
       "align_self": null,
       "border": null,
       "bottom": null,
       "display": null,
       "flex": null,
       "flex_flow": null,
       "grid_area": null,
       "grid_auto_columns": null,
       "grid_auto_flow": null,
       "grid_auto_rows": null,
       "grid_column": null,
       "grid_gap": null,
       "grid_row": null,
       "grid_template_areas": null,
       "grid_template_columns": null,
       "grid_template_rows": null,
       "height": null,
       "justify_content": null,
       "justify_items": null,
       "left": null,
       "margin": null,
       "max_height": null,
       "max_width": null,
       "min_height": null,
       "min_width": null,
       "object_fit": null,
       "object_position": null,
       "order": null,
       "overflow": null,
       "overflow_x": null,
       "overflow_y": null,
       "padding": null,
       "right": null,
       "top": null,
       "visibility": null,
       "width": null
      }
     },
     "74b0888bbe4a44b6966915da6f44229e": {
      "model_module": "@jupyter-widgets/controls",
      "model_module_version": "1.5.0",
      "model_name": "HTMLModel",
      "state": {
       "_dom_classes": [],
       "_model_module": "@jupyter-widgets/controls",
       "_model_module_version": "1.5.0",
       "_model_name": "HTMLModel",
       "_view_count": null,
       "_view_module": "@jupyter-widgets/controls",
       "_view_module_version": "1.5.0",
       "_view_name": "HTMLView",
       "description": "",
       "description_tooltip": null,
       "layout": "IPY_MODEL_41f97d959f554ea6891efe6dca950614",
       "placeholder": "​",
       "style": "IPY_MODEL_9453e6bb38e1443ba6d7869d7548f3bd",
       "value": "model.safetensors: 100%"
      }
     },
     "78cf6cb804ed4f13a32bd8f1eddbc887": {
      "model_module": "@jupyter-widgets/controls",
      "model_module_version": "1.5.0",
      "model_name": "HTMLModel",
      "state": {
       "_dom_classes": [],
       "_model_module": "@jupyter-widgets/controls",
       "_model_module_version": "1.5.0",
       "_model_name": "HTMLModel",
       "_view_count": null,
       "_view_module": "@jupyter-widgets/controls",
       "_view_module_version": "1.5.0",
       "_view_name": "HTMLView",
       "description": "",
       "description_tooltip": null,
       "layout": "IPY_MODEL_0af48e0850cd4b33a00e6cc6531d599e",
       "placeholder": "​",
       "style": "IPY_MODEL_e3c65275b9bb46c282d451976ab5c114",
       "value": " 268M/268M [00:00&lt;00:00, 346MB/s]"
      }
     },
     "798551e3f69647c5803ffc84b556ad6c": {
      "model_module": "@jupyter-widgets/base",
      "model_module_version": "1.2.0",
      "model_name": "LayoutModel",
      "state": {
       "_model_module": "@jupyter-widgets/base",
       "_model_module_version": "1.2.0",
       "_model_name": "LayoutModel",
       "_view_count": null,
       "_view_module": "@jupyter-widgets/base",
       "_view_module_version": "1.2.0",
       "_view_name": "LayoutView",
       "align_content": null,
       "align_items": null,
       "align_self": null,
       "border": null,
       "bottom": null,
       "display": null,
       "flex": null,
       "flex_flow": null,
       "grid_area": null,
       "grid_auto_columns": null,
       "grid_auto_flow": null,
       "grid_auto_rows": null,
       "grid_column": null,
       "grid_gap": null,
       "grid_row": null,
       "grid_template_areas": null,
       "grid_template_columns": null,
       "grid_template_rows": null,
       "height": null,
       "justify_content": null,
       "justify_items": null,
       "left": null,
       "margin": null,
       "max_height": null,
       "max_width": null,
       "min_height": null,
       "min_width": null,
       "object_fit": null,
       "object_position": null,
       "order": null,
       "overflow": null,
       "overflow_x": null,
       "overflow_y": null,
       "padding": null,
       "right": null,
       "top": null,
       "visibility": null,
       "width": null
      }
     },
     "7c5abb662d1f4da7aa45379c02e161a8": {
      "model_module": "@jupyter-widgets/base",
      "model_module_version": "1.2.0",
      "model_name": "LayoutModel",
      "state": {
       "_model_module": "@jupyter-widgets/base",
       "_model_module_version": "1.2.0",
       "_model_name": "LayoutModel",
       "_view_count": null,
       "_view_module": "@jupyter-widgets/base",
       "_view_module_version": "1.2.0",
       "_view_name": "LayoutView",
       "align_content": null,
       "align_items": null,
       "align_self": null,
       "border": null,
       "bottom": null,
       "display": null,
       "flex": null,
       "flex_flow": null,
       "grid_area": null,
       "grid_auto_columns": null,
       "grid_auto_flow": null,
       "grid_auto_rows": null,
       "grid_column": null,
       "grid_gap": null,
       "grid_row": null,
       "grid_template_areas": null,
       "grid_template_columns": null,
       "grid_template_rows": null,
       "height": null,
       "justify_content": null,
       "justify_items": null,
       "left": null,
       "margin": null,
       "max_height": null,
       "max_width": null,
       "min_height": null,
       "min_width": null,
       "object_fit": null,
       "object_position": null,
       "order": null,
       "overflow": null,
       "overflow_x": null,
       "overflow_y": null,
       "padding": null,
       "right": null,
       "top": null,
       "visibility": null,
       "width": null
      }
     },
     "8034c49d6ca54343bfe3c353dbd51c92": {
      "model_module": "@jupyter-widgets/controls",
      "model_module_version": "1.5.0",
      "model_name": "HTMLModel",
      "state": {
       "_dom_classes": [],
       "_model_module": "@jupyter-widgets/controls",
       "_model_module_version": "1.5.0",
       "_model_name": "HTMLModel",
       "_view_count": null,
       "_view_module": "@jupyter-widgets/controls",
       "_view_module_version": "1.5.0",
       "_view_name": "HTMLView",
       "description": "",
       "description_tooltip": null,
       "layout": "IPY_MODEL_df38bece027e40f39658f927dd7441ad",
       "placeholder": "​",
       "style": "IPY_MODEL_5a2bf15c24194d44a50ac020c6f707a7",
       "value": " 629/629 [00:00&lt;00:00, 51.9kB/s]"
      }
     },
     "8a9e96b472894e779fa4a7bfcc59ca5e": {
      "model_module": "@jupyter-widgets/base",
      "model_module_version": "1.2.0",
      "model_name": "LayoutModel",
      "state": {
       "_model_module": "@jupyter-widgets/base",
       "_model_module_version": "1.2.0",
       "_model_name": "LayoutModel",
       "_view_count": null,
       "_view_module": "@jupyter-widgets/base",
       "_view_module_version": "1.2.0",
       "_view_name": "LayoutView",
       "align_content": null,
       "align_items": null,
       "align_self": null,
       "border": null,
       "bottom": null,
       "display": null,
       "flex": null,
       "flex_flow": null,
       "grid_area": null,
       "grid_auto_columns": null,
       "grid_auto_flow": null,
       "grid_auto_rows": null,
       "grid_column": null,
       "grid_gap": null,
       "grid_row": null,
       "grid_template_areas": null,
       "grid_template_columns": null,
       "grid_template_rows": null,
       "height": null,
       "justify_content": null,
       "justify_items": null,
       "left": null,
       "margin": null,
       "max_height": null,
       "max_width": null,
       "min_height": null,
       "min_width": null,
       "object_fit": null,
       "object_position": null,
       "order": null,
       "overflow": null,
       "overflow_x": null,
       "overflow_y": null,
       "padding": null,
       "right": null,
       "top": null,
       "visibility": null,
       "width": null
      }
     },
     "904437baccdc400a806b8cf4a94cb51e": {
      "model_module": "@jupyter-widgets/controls",
      "model_module_version": "1.5.0",
      "model_name": "HTMLModel",
      "state": {
       "_dom_classes": [],
       "_model_module": "@jupyter-widgets/controls",
       "_model_module_version": "1.5.0",
       "_model_name": "HTMLModel",
       "_view_count": null,
       "_view_module": "@jupyter-widgets/controls",
       "_view_module_version": "1.5.0",
       "_view_name": "HTMLView",
       "description": "",
       "description_tooltip": null,
       "layout": "IPY_MODEL_7c5abb662d1f4da7aa45379c02e161a8",
       "placeholder": "​",
       "style": "IPY_MODEL_21a8baa4e6d94c08a20c09770e5b1578",
       "value": " 48.0/48.0 [00:00&lt;00:00, 4.31kB/s]"
      }
     },
     "9453e6bb38e1443ba6d7869d7548f3bd": {
      "model_module": "@jupyter-widgets/controls",
      "model_module_version": "1.5.0",
      "model_name": "DescriptionStyleModel",
      "state": {
       "_model_module": "@jupyter-widgets/controls",
       "_model_module_version": "1.5.0",
       "_model_name": "DescriptionStyleModel",
       "_view_count": null,
       "_view_module": "@jupyter-widgets/base",
       "_view_module_version": "1.2.0",
       "_view_name": "StyleView",
       "description_width": ""
      }
     },
     "9cfc4e2b04204de0b6c50205c4772abe": {
      "model_module": "@jupyter-widgets/controls",
      "model_module_version": "1.5.0",
      "model_name": "DescriptionStyleModel",
      "state": {
       "_model_module": "@jupyter-widgets/controls",
       "_model_module_version": "1.5.0",
       "_model_name": "DescriptionStyleModel",
       "_view_count": null,
       "_view_module": "@jupyter-widgets/base",
       "_view_module_version": "1.2.0",
       "_view_name": "StyleView",
       "description_width": ""
      }
     },
     "b389ee04953b41caa1c4750ccbf18414": {
      "model_module": "@jupyter-widgets/base",
      "model_module_version": "1.2.0",
      "model_name": "LayoutModel",
      "state": {
       "_model_module": "@jupyter-widgets/base",
       "_model_module_version": "1.2.0",
       "_model_name": "LayoutModel",
       "_view_count": null,
       "_view_module": "@jupyter-widgets/base",
       "_view_module_version": "1.2.0",
       "_view_name": "LayoutView",
       "align_content": null,
       "align_items": null,
       "align_self": null,
       "border": null,
       "bottom": null,
       "display": null,
       "flex": null,
       "flex_flow": null,
       "grid_area": null,
       "grid_auto_columns": null,
       "grid_auto_flow": null,
       "grid_auto_rows": null,
       "grid_column": null,
       "grid_gap": null,
       "grid_row": null,
       "grid_template_areas": null,
       "grid_template_columns": null,
       "grid_template_rows": null,
       "height": null,
       "justify_content": null,
       "justify_items": null,
       "left": null,
       "margin": null,
       "max_height": null,
       "max_width": null,
       "min_height": null,
       "min_width": null,
       "object_fit": null,
       "object_position": null,
       "order": null,
       "overflow": null,
       "overflow_x": null,
       "overflow_y": null,
       "padding": null,
       "right": null,
       "top": null,
       "visibility": null,
       "width": null
      }
     },
     "b419d43df4554e2b85a44d6df1626d83": {
      "model_module": "@jupyter-widgets/controls",
      "model_module_version": "1.5.0",
      "model_name": "DescriptionStyleModel",
      "state": {
       "_model_module": "@jupyter-widgets/controls",
       "_model_module_version": "1.5.0",
       "_model_name": "DescriptionStyleModel",
       "_view_count": null,
       "_view_module": "@jupyter-widgets/base",
       "_view_module_version": "1.2.0",
       "_view_name": "StyleView",
       "description_width": ""
      }
     },
     "b5f951540c36445b970250259def86cd": {
      "model_module": "@jupyter-widgets/controls",
      "model_module_version": "1.5.0",
      "model_name": "HTMLModel",
      "state": {
       "_dom_classes": [],
       "_model_module": "@jupyter-widgets/controls",
       "_model_module_version": "1.5.0",
       "_model_name": "HTMLModel",
       "_view_count": null,
       "_view_module": "@jupyter-widgets/controls",
       "_view_module_version": "1.5.0",
       "_view_name": "HTMLView",
       "description": "",
       "description_tooltip": null,
       "layout": "IPY_MODEL_c77685015bed4a0e9f62921baf7ffea8",
       "placeholder": "​",
       "style": "IPY_MODEL_b419d43df4554e2b85a44d6df1626d83",
       "value": "vocab.txt: 100%"
      }
     },
     "c229b0824cd24e1da9ffd9e776f1daea": {
      "model_module": "@jupyter-widgets/controls",
      "model_module_version": "1.5.0",
      "model_name": "HBoxModel",
      "state": {
       "_dom_classes": [],
       "_model_module": "@jupyter-widgets/controls",
       "_model_module_version": "1.5.0",
       "_model_name": "HBoxModel",
       "_view_count": null,
       "_view_module": "@jupyter-widgets/controls",
       "_view_module_version": "1.5.0",
       "_view_name": "HBoxView",
       "box_style": "",
       "children": [
        "IPY_MODEL_74b0888bbe4a44b6966915da6f44229e",
        "IPY_MODEL_19504ed066444a1387c6059ea82d0494",
        "IPY_MODEL_78cf6cb804ed4f13a32bd8f1eddbc887"
       ],
       "layout": "IPY_MODEL_f7d605dcdca04a26ba33f386b261e25d"
      }
     },
     "c77685015bed4a0e9f62921baf7ffea8": {
      "model_module": "@jupyter-widgets/base",
      "model_module_version": "1.2.0",
      "model_name": "LayoutModel",
      "state": {
       "_model_module": "@jupyter-widgets/base",
       "_model_module_version": "1.2.0",
       "_model_name": "LayoutModel",
       "_view_count": null,
       "_view_module": "@jupyter-widgets/base",
       "_view_module_version": "1.2.0",
       "_view_name": "LayoutView",
       "align_content": null,
       "align_items": null,
       "align_self": null,
       "border": null,
       "bottom": null,
       "display": null,
       "flex": null,
       "flex_flow": null,
       "grid_area": null,
       "grid_auto_columns": null,
       "grid_auto_flow": null,
       "grid_auto_rows": null,
       "grid_column": null,
       "grid_gap": null,
       "grid_row": null,
       "grid_template_areas": null,
       "grid_template_columns": null,
       "grid_template_rows": null,
       "height": null,
       "justify_content": null,
       "justify_items": null,
       "left": null,
       "margin": null,
       "max_height": null,
       "max_width": null,
       "min_height": null,
       "min_width": null,
       "object_fit": null,
       "object_position": null,
       "order": null,
       "overflow": null,
       "overflow_x": null,
       "overflow_y": null,
       "padding": null,
       "right": null,
       "top": null,
       "visibility": null,
       "width": null
      }
     },
     "cab39bbd1c954a7e9f0ddca9519531b3": {
      "model_module": "@jupyter-widgets/controls",
      "model_module_version": "1.5.0",
      "model_name": "HTMLModel",
      "state": {
       "_dom_classes": [],
       "_model_module": "@jupyter-widgets/controls",
       "_model_module_version": "1.5.0",
       "_model_name": "HTMLModel",
       "_view_count": null,
       "_view_module": "@jupyter-widgets/controls",
       "_view_module_version": "1.5.0",
       "_view_name": "HTMLView",
       "description": "",
       "description_tooltip": null,
       "layout": "IPY_MODEL_6046c02435824113a0a97de8a7a123de",
       "placeholder": "​",
       "style": "IPY_MODEL_698d21ef6bba46fdb713ce3195a1a03a",
       "value": " 232k/232k [00:00&lt;00:00, 2.71MB/s]"
      }
     },
     "cecc1d7d796a4ecfa97a80e37019d25a": {
      "model_module": "@jupyter-widgets/base",
      "model_module_version": "1.2.0",
      "model_name": "LayoutModel",
      "state": {
       "_model_module": "@jupyter-widgets/base",
       "_model_module_version": "1.2.0",
       "_model_name": "LayoutModel",
       "_view_count": null,
       "_view_module": "@jupyter-widgets/base",
       "_view_module_version": "1.2.0",
       "_view_name": "LayoutView",
       "align_content": null,
       "align_items": null,
       "align_self": null,
       "border": null,
       "bottom": null,
       "display": null,
       "flex": null,
       "flex_flow": null,
       "grid_area": null,
       "grid_auto_columns": null,
       "grid_auto_flow": null,
       "grid_auto_rows": null,
       "grid_column": null,
       "grid_gap": null,
       "grid_row": null,
       "grid_template_areas": null,
       "grid_template_columns": null,
       "grid_template_rows": null,
       "height": null,
       "justify_content": null,
       "justify_items": null,
       "left": null,
       "margin": null,
       "max_height": null,
       "max_width": null,
       "min_height": null,
       "min_width": null,
       "object_fit": null,
       "object_position": null,
       "order": null,
       "overflow": null,
       "overflow_x": null,
       "overflow_y": null,
       "padding": null,
       "right": null,
       "top": null,
       "visibility": null,
       "width": null
      }
     },
     "d046903d6e7f4237bd86d352b12047be": {
      "model_module": "@jupyter-widgets/base",
      "model_module_version": "1.2.0",
      "model_name": "LayoutModel",
      "state": {
       "_model_module": "@jupyter-widgets/base",
       "_model_module_version": "1.2.0",
       "_model_name": "LayoutModel",
       "_view_count": null,
       "_view_module": "@jupyter-widgets/base",
       "_view_module_version": "1.2.0",
       "_view_name": "LayoutView",
       "align_content": null,
       "align_items": null,
       "align_self": null,
       "border": null,
       "bottom": null,
       "display": null,
       "flex": null,
       "flex_flow": null,
       "grid_area": null,
       "grid_auto_columns": null,
       "grid_auto_flow": null,
       "grid_auto_rows": null,
       "grid_column": null,
       "grid_gap": null,
       "grid_row": null,
       "grid_template_areas": null,
       "grid_template_columns": null,
       "grid_template_rows": null,
       "height": null,
       "justify_content": null,
       "justify_items": null,
       "left": null,
       "margin": null,
       "max_height": null,
       "max_width": null,
       "min_height": null,
       "min_width": null,
       "object_fit": null,
       "object_position": null,
       "order": null,
       "overflow": null,
       "overflow_x": null,
       "overflow_y": null,
       "padding": null,
       "right": null,
       "top": null,
       "visibility": null,
       "width": null
      }
     },
     "d244d4bb1a2745f7b4c14520c37081e2": {
      "model_module": "@jupyter-widgets/controls",
      "model_module_version": "1.5.0",
      "model_name": "FloatProgressModel",
      "state": {
       "_dom_classes": [],
       "_model_module": "@jupyter-widgets/controls",
       "_model_module_version": "1.5.0",
       "_model_name": "FloatProgressModel",
       "_view_count": null,
       "_view_module": "@jupyter-widgets/controls",
       "_view_module_version": "1.5.0",
       "_view_name": "ProgressView",
       "bar_style": "success",
       "description": "",
       "description_tooltip": null,
       "layout": "IPY_MODEL_49d9078f3c6742f3af383633c3181558",
       "max": 48.0,
       "min": 0.0,
       "orientation": "horizontal",
       "style": "IPY_MODEL_1a5d8342969b4c4ca08ff5733982e6cf",
       "value": 48.0
      }
     },
     "d8b716088a894ad089106fe8ceacf91c": {
      "model_module": "@jupyter-widgets/controls",
      "model_module_version": "1.5.0",
      "model_name": "HBoxModel",
      "state": {
       "_dom_classes": [],
       "_model_module": "@jupyter-widgets/controls",
       "_model_module_version": "1.5.0",
       "_model_name": "HBoxModel",
       "_view_count": null,
       "_view_module": "@jupyter-widgets/controls",
       "_view_module_version": "1.5.0",
       "_view_name": "HBoxView",
       "box_style": "",
       "children": [
        "IPY_MODEL_dcaa69054f614769a6d2f85ec38e4e01",
        "IPY_MODEL_d244d4bb1a2745f7b4c14520c37081e2",
        "IPY_MODEL_904437baccdc400a806b8cf4a94cb51e"
       ],
       "layout": "IPY_MODEL_798551e3f69647c5803ffc84b556ad6c"
      }
     },
     "dcaa69054f614769a6d2f85ec38e4e01": {
      "model_module": "@jupyter-widgets/controls",
      "model_module_version": "1.5.0",
      "model_name": "HTMLModel",
      "state": {
       "_dom_classes": [],
       "_model_module": "@jupyter-widgets/controls",
       "_model_module_version": "1.5.0",
       "_model_name": "HTMLModel",
       "_view_count": null,
       "_view_module": "@jupyter-widgets/controls",
       "_view_module_version": "1.5.0",
       "_view_name": "HTMLView",
       "description": "",
       "description_tooltip": null,
       "layout": "IPY_MODEL_41eab9a1e0d443818d7649b1e551669e",
       "placeholder": "​",
       "style": "IPY_MODEL_3f89fb51398549b494d540c41a01bf8d",
       "value": "tokenizer_config.json: 100%"
      }
     },
     "df29ad58cd7f40ccaa89a4c604220713": {
      "model_module": "@jupyter-widgets/controls",
      "model_module_version": "1.5.0",
      "model_name": "FloatProgressModel",
      "state": {
       "_dom_classes": [],
       "_model_module": "@jupyter-widgets/controls",
       "_model_module_version": "1.5.0",
       "_model_name": "FloatProgressModel",
       "_view_count": null,
       "_view_module": "@jupyter-widgets/controls",
       "_view_module_version": "1.5.0",
       "_view_name": "ProgressView",
       "bar_style": "success",
       "description": "",
       "description_tooltip": null,
       "layout": "IPY_MODEL_b389ee04953b41caa1c4750ccbf18414",
       "max": 629.0,
       "min": 0.0,
       "orientation": "horizontal",
       "style": "IPY_MODEL_6ccfde98687a4d72a82334a5a7b67e90",
       "value": 629.0
      }
     },
     "df38bece027e40f39658f927dd7441ad": {
      "model_module": "@jupyter-widgets/base",
      "model_module_version": "1.2.0",
      "model_name": "LayoutModel",
      "state": {
       "_model_module": "@jupyter-widgets/base",
       "_model_module_version": "1.2.0",
       "_model_name": "LayoutModel",
       "_view_count": null,
       "_view_module": "@jupyter-widgets/base",
       "_view_module_version": "1.2.0",
       "_view_name": "LayoutView",
       "align_content": null,
       "align_items": null,
       "align_self": null,
       "border": null,
       "bottom": null,
       "display": null,
       "flex": null,
       "flex_flow": null,
       "grid_area": null,
       "grid_auto_columns": null,
       "grid_auto_flow": null,
       "grid_auto_rows": null,
       "grid_column": null,
       "grid_gap": null,
       "grid_row": null,
       "grid_template_areas": null,
       "grid_template_columns": null,
       "grid_template_rows": null,
       "height": null,
       "justify_content": null,
       "justify_items": null,
       "left": null,
       "margin": null,
       "max_height": null,
       "max_width": null,
       "min_height": null,
       "min_width": null,
       "object_fit": null,
       "object_position": null,
       "order": null,
       "overflow": null,
       "overflow_x": null,
       "overflow_y": null,
       "padding": null,
       "right": null,
       "top": null,
       "visibility": null,
       "width": null
      }
     },
     "e3c65275b9bb46c282d451976ab5c114": {
      "model_module": "@jupyter-widgets/controls",
      "model_module_version": "1.5.0",
      "model_name": "DescriptionStyleModel",
      "state": {
       "_model_module": "@jupyter-widgets/controls",
       "_model_module_version": "1.5.0",
       "_model_name": "DescriptionStyleModel",
       "_view_count": null,
       "_view_module": "@jupyter-widgets/base",
       "_view_module_version": "1.2.0",
       "_view_name": "StyleView",
       "description_width": ""
      }
     },
     "f7d605dcdca04a26ba33f386b261e25d": {
      "model_module": "@jupyter-widgets/base",
      "model_module_version": "1.2.0",
      "model_name": "LayoutModel",
      "state": {
       "_model_module": "@jupyter-widgets/base",
       "_model_module_version": "1.2.0",
       "_model_name": "LayoutModel",
       "_view_count": null,
       "_view_module": "@jupyter-widgets/base",
       "_view_module_version": "1.2.0",
       "_view_name": "LayoutView",
       "align_content": null,
       "align_items": null,
       "align_self": null,
       "border": null,
       "bottom": null,
       "display": null,
       "flex": null,
       "flex_flow": null,
       "grid_area": null,
       "grid_auto_columns": null,
       "grid_auto_flow": null,
       "grid_auto_rows": null,
       "grid_column": null,
       "grid_gap": null,
       "grid_row": null,
       "grid_template_areas": null,
       "grid_template_columns": null,
       "grid_template_rows": null,
       "height": null,
       "justify_content": null,
       "justify_items": null,
       "left": null,
       "margin": null,
       "max_height": null,
       "max_width": null,
       "min_height": null,
       "min_width": null,
       "object_fit": null,
       "object_position": null,
       "order": null,
       "overflow": null,
       "overflow_x": null,
       "overflow_y": null,
       "padding": null,
       "right": null,
       "top": null,
       "visibility": null,
       "width": null
      }
     },
     "fc34553782f344cdbf09b3e560c64caa": {
      "model_module": "@jupyter-widgets/controls",
      "model_module_version": "1.5.0",
      "model_name": "ProgressStyleModel",
      "state": {
       "_model_module": "@jupyter-widgets/controls",
       "_model_module_version": "1.5.0",
       "_model_name": "ProgressStyleModel",
       "_view_count": null,
       "_view_module": "@jupyter-widgets/base",
       "_view_module_version": "1.2.0",
       "_view_name": "StyleView",
       "bar_color": null,
       "description_width": ""
      }
     }
    },
    "version_major": 2,
    "version_minor": 0
   }
  }
 },
 "nbformat": 4,
 "nbformat_minor": 5
}
